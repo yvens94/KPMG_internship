{
 "cells": [
  {
   "cell_type": "code",
   "execution_count": 1,
   "id": "58ae09ce",
   "metadata": {},
   "outputs": [],
   "source": [
    "import pandas as pd\n",
    "import numpy as np\n",
    "import matplotlib.pyplot as plt\n",
    "import seaborn as sns\n",
    "\n"
   ]
  },
  {
   "cell_type": "markdown",
   "id": "56cb8107",
   "metadata": {},
   "source": [
    "## data quality assessment\n",
    "\n",
    "### assessing Acuracy- Completness - Currency- consistency - relevancy - uniqueness- Validity"
   ]
  },
  {
   "cell_type": "markdown",
   "id": "e3cc330f",
   "metadata": {},
   "source": [
    "#### each table is assessed column by column with recomendation about how to fix the issues found"
   ]
  },
  {
   "cell_type": "code",
   "execution_count": 2,
   "id": "baf2d6dd",
   "metadata": {},
   "outputs": [],
   "source": [
    "xls = pd.ExcelFile('KPMG_VI_dataAsses.xlsx')\n",
    "Transactions = pd.read_excel(xls, 'Transactions')\n",
    "NewCustomerList = pd.read_excel(xls, 'NewCustomerList')\n",
    "CustomerDemographic = pd.read_excel(xls, 'CustomerDemographic')\n",
    "CustomerAdress = pd.read_excel(xls, 'CustomerAddress')"
   ]
  },
  {
   "cell_type": "code",
   "execution_count": 3,
   "id": "1c3404e2",
   "metadata": {},
   "outputs": [
    {
     "data": {
      "text/html": [
       "<div>\n",
       "<style scoped>\n",
       "    .dataframe tbody tr th:only-of-type {\n",
       "        vertical-align: middle;\n",
       "    }\n",
       "\n",
       "    .dataframe tbody tr th {\n",
       "        vertical-align: top;\n",
       "    }\n",
       "\n",
       "    .dataframe thead th {\n",
       "        text-align: right;\n",
       "    }\n",
       "</style>\n",
       "<table border=\"1\" class=\"dataframe\">\n",
       "  <thead>\n",
       "    <tr style=\"text-align: right;\">\n",
       "      <th></th>\n",
       "      <th>Note: The data and information in this document is reflective of a hypothetical situation and client. This document is to be used for KPMG Virtual Internship purposes only.</th>\n",
       "      <th>Unnamed: 1</th>\n",
       "      <th>Unnamed: 2</th>\n",
       "      <th>Unnamed: 3</th>\n",
       "      <th>Unnamed: 4</th>\n",
       "      <th>Unnamed: 5</th>\n",
       "      <th>Unnamed: 6</th>\n",
       "      <th>Unnamed: 7</th>\n",
       "      <th>Unnamed: 8</th>\n",
       "      <th>Unnamed: 9</th>\n",
       "      <th>Unnamed: 10</th>\n",
       "      <th>Unnamed: 11</th>\n",
       "      <th>Unnamed: 12</th>\n",
       "    </tr>\n",
       "  </thead>\n",
       "  <tbody>\n",
       "    <tr>\n",
       "      <th>0</th>\n",
       "      <td>transaction_id</td>\n",
       "      <td>product_id</td>\n",
       "      <td>customer_id</td>\n",
       "      <td>transaction_date</td>\n",
       "      <td>online_order</td>\n",
       "      <td>order_status</td>\n",
       "      <td>brand</td>\n",
       "      <td>product_line</td>\n",
       "      <td>product_class</td>\n",
       "      <td>product_size</td>\n",
       "      <td>list_price</td>\n",
       "      <td>standard_cost</td>\n",
       "      <td>product_first_sold_date</td>\n",
       "    </tr>\n",
       "    <tr>\n",
       "      <th>1</th>\n",
       "      <td>1</td>\n",
       "      <td>2</td>\n",
       "      <td>2950</td>\n",
       "      <td>2017-02-25 00:00:00</td>\n",
       "      <td>False</td>\n",
       "      <td>Approved</td>\n",
       "      <td>Solex</td>\n",
       "      <td>Standard</td>\n",
       "      <td>medium</td>\n",
       "      <td>medium</td>\n",
       "      <td>71.49</td>\n",
       "      <td>53.62</td>\n",
       "      <td>41245</td>\n",
       "    </tr>\n",
       "    <tr>\n",
       "      <th>2</th>\n",
       "      <td>2</td>\n",
       "      <td>3</td>\n",
       "      <td>3120</td>\n",
       "      <td>2017-05-21 00:00:00</td>\n",
       "      <td>True</td>\n",
       "      <td>Approved</td>\n",
       "      <td>Trek Bicycles</td>\n",
       "      <td>Standard</td>\n",
       "      <td>medium</td>\n",
       "      <td>large</td>\n",
       "      <td>2091.47</td>\n",
       "      <td>388.92</td>\n",
       "      <td>41701</td>\n",
       "    </tr>\n",
       "  </tbody>\n",
       "</table>\n",
       "</div>"
      ],
      "text/plain": [
       "  Note: The data and information in this document is reflective of a hypothetical situation and client. This document is to be used for KPMG Virtual Internship purposes only.    \n",
       "0                                     transaction_id                                                                                                                             \\\n",
       "1                                                  1                                                                                                                              \n",
       "2                                                  2                                                                                                                              \n",
       "\n",
       "   Unnamed: 1   Unnamed: 2           Unnamed: 3    Unnamed: 4    Unnamed: 5   \n",
       "0  product_id  customer_id     transaction_date  online_order  order_status  \\\n",
       "1           2         2950  2017-02-25 00:00:00         False      Approved   \n",
       "2           3         3120  2017-05-21 00:00:00          True      Approved   \n",
       "\n",
       "      Unnamed: 6    Unnamed: 7     Unnamed: 8    Unnamed: 9 Unnamed: 10   \n",
       "0          brand  product_line  product_class  product_size  list_price  \\\n",
       "1          Solex      Standard         medium        medium       71.49   \n",
       "2  Trek Bicycles      Standard         medium         large     2091.47   \n",
       "\n",
       "     Unnamed: 11              Unnamed: 12  \n",
       "0  standard_cost  product_first_sold_date  \n",
       "1          53.62                    41245  \n",
       "2         388.92                    41701  "
      ]
     },
     "execution_count": 3,
     "metadata": {},
     "output_type": "execute_result"
    }
   ],
   "source": [
    "Transactions.head(3)"
   ]
  },
  {
   "cell_type": "code",
   "execution_count": 4,
   "id": "5cb29288",
   "metadata": {},
   "outputs": [
    {
     "data": {
      "text/html": [
       "<div>\n",
       "<style scoped>\n",
       "    .dataframe tbody tr th:only-of-type {\n",
       "        vertical-align: middle;\n",
       "    }\n",
       "\n",
       "    .dataframe tbody tr th {\n",
       "        vertical-align: top;\n",
       "    }\n",
       "\n",
       "    .dataframe thead th {\n",
       "        text-align: right;\n",
       "    }\n",
       "</style>\n",
       "<table border=\"1\" class=\"dataframe\">\n",
       "  <thead>\n",
       "    <tr style=\"text-align: right;\">\n",
       "      <th></th>\n",
       "      <th>Note: The data and information in this document is reflective of a hypothetical situation and client. This document is to be used for KPMG Virtual Internship purposes only.</th>\n",
       "      <th>Unnamed: 1</th>\n",
       "      <th>Unnamed: 2</th>\n",
       "      <th>Unnamed: 3</th>\n",
       "      <th>Unnamed: 4</th>\n",
       "      <th>Unnamed: 5</th>\n",
       "      <th>Unnamed: 6</th>\n",
       "      <th>Unnamed: 7</th>\n",
       "      <th>Unnamed: 8</th>\n",
       "      <th>Unnamed: 9</th>\n",
       "      <th>...</th>\n",
       "      <th>Unnamed: 13</th>\n",
       "      <th>Unnamed: 14</th>\n",
       "      <th>Unnamed: 15</th>\n",
       "      <th>Unnamed: 16</th>\n",
       "      <th>Unnamed: 17</th>\n",
       "      <th>Unnamed: 18</th>\n",
       "      <th>Unnamed: 19</th>\n",
       "      <th>Unnamed: 20</th>\n",
       "      <th>Unnamed: 21</th>\n",
       "      <th>Unnamed: 22</th>\n",
       "    </tr>\n",
       "  </thead>\n",
       "  <tbody>\n",
       "    <tr>\n",
       "      <th>0</th>\n",
       "      <td>first_name</td>\n",
       "      <td>last_name</td>\n",
       "      <td>gender</td>\n",
       "      <td>past_3_years_bike_related_purchases</td>\n",
       "      <td>DOB</td>\n",
       "      <td>job_title</td>\n",
       "      <td>job_industry_category</td>\n",
       "      <td>wealth_segment</td>\n",
       "      <td>deceased_indicator</td>\n",
       "      <td>owns_car</td>\n",
       "      <td>...</td>\n",
       "      <td>state</td>\n",
       "      <td>country</td>\n",
       "      <td>property_valuation</td>\n",
       "      <td>NaN</td>\n",
       "      <td>NaN</td>\n",
       "      <td>NaN</td>\n",
       "      <td>NaN</td>\n",
       "      <td>NaN</td>\n",
       "      <td>Rank</td>\n",
       "      <td>Value</td>\n",
       "    </tr>\n",
       "    <tr>\n",
       "      <th>1</th>\n",
       "      <td>Chickie</td>\n",
       "      <td>Brister</td>\n",
       "      <td>Male</td>\n",
       "      <td>86</td>\n",
       "      <td>1957-07-12</td>\n",
       "      <td>General Manager</td>\n",
       "      <td>Manufacturing</td>\n",
       "      <td>Mass Customer</td>\n",
       "      <td>N</td>\n",
       "      <td>Yes</td>\n",
       "      <td>...</td>\n",
       "      <td>QLD</td>\n",
       "      <td>Australia</td>\n",
       "      <td>6</td>\n",
       "      <td>0.43</td>\n",
       "      <td>0.5375</td>\n",
       "      <td>0.671875</td>\n",
       "      <td>0.571094</td>\n",
       "      <td>1.0</td>\n",
       "      <td>1</td>\n",
       "      <td>1.71875</td>\n",
       "    </tr>\n",
       "  </tbody>\n",
       "</table>\n",
       "<p>2 rows × 23 columns</p>\n",
       "</div>"
      ],
      "text/plain": [
       "  Note: The data and information in this document is reflective of a hypothetical situation and client. This document is to be used for KPMG Virtual Internship purposes only.    \n",
       "0                                         first_name                                                                                                                             \\\n",
       "1                                            Chickie                                                                                                                              \n",
       "\n",
       "  Unnamed: 1 Unnamed: 2                           Unnamed: 3  Unnamed: 4   \n",
       "0  last_name     gender  past_3_years_bike_related_purchases         DOB  \\\n",
       "1    Brister       Male                                   86  1957-07-12   \n",
       "\n",
       "        Unnamed: 5             Unnamed: 6      Unnamed: 7          Unnamed: 8   \n",
       "0        job_title  job_industry_category  wealth_segment  deceased_indicator  \\\n",
       "1  General Manager          Manufacturing   Mass Customer                   N   \n",
       "\n",
       "  Unnamed: 9  ... Unnamed: 13 Unnamed: 14         Unnamed: 15 Unnamed: 16   \n",
       "0   owns_car  ...       state     country  property_valuation         NaN  \\\n",
       "1        Yes  ...         QLD   Australia                   6        0.43   \n",
       "\n",
       "  Unnamed: 17 Unnamed: 18  Unnamed: 19  Unnamed: 20  Unnamed: 21  Unnamed: 22  \n",
       "0         NaN         NaN          NaN          NaN         Rank        Value  \n",
       "1      0.5375    0.671875     0.571094          1.0            1      1.71875  \n",
       "\n",
       "[2 rows x 23 columns]"
      ]
     },
     "execution_count": 4,
     "metadata": {},
     "output_type": "execute_result"
    }
   ],
   "source": [
    "NewCustomerList.head(2)"
   ]
  },
  {
   "cell_type": "code",
   "execution_count": 5,
   "id": "711eadaf",
   "metadata": {},
   "outputs": [
    {
     "data": {
      "text/html": [
       "<div>\n",
       "<style scoped>\n",
       "    .dataframe tbody tr th:only-of-type {\n",
       "        vertical-align: middle;\n",
       "    }\n",
       "\n",
       "    .dataframe tbody tr th {\n",
       "        vertical-align: top;\n",
       "    }\n",
       "\n",
       "    .dataframe thead th {\n",
       "        text-align: right;\n",
       "    }\n",
       "</style>\n",
       "<table border=\"1\" class=\"dataframe\">\n",
       "  <thead>\n",
       "    <tr style=\"text-align: right;\">\n",
       "      <th></th>\n",
       "      <th>Note: The data and information in this document is reflective of a hypothetical situation and client. This document is to be used for KPMG Virtual Internship purposes only.</th>\n",
       "      <th>Unnamed: 1</th>\n",
       "      <th>Unnamed: 2</th>\n",
       "      <th>Unnamed: 3</th>\n",
       "      <th>Unnamed: 4</th>\n",
       "      <th>Unnamed: 5</th>\n",
       "      <th>Unnamed: 6</th>\n",
       "      <th>Unnamed: 7</th>\n",
       "      <th>Unnamed: 8</th>\n",
       "      <th>Unnamed: 9</th>\n",
       "      <th>Unnamed: 10</th>\n",
       "      <th>Unnamed: 11</th>\n",
       "      <th>Unnamed: 12</th>\n",
       "    </tr>\n",
       "  </thead>\n",
       "  <tbody>\n",
       "    <tr>\n",
       "      <th>0</th>\n",
       "      <td>customer_id</td>\n",
       "      <td>first_name</td>\n",
       "      <td>last_name</td>\n",
       "      <td>gender</td>\n",
       "      <td>past_3_years_bike_related_purchases</td>\n",
       "      <td>DOB</td>\n",
       "      <td>job_title</td>\n",
       "      <td>job_industry_category</td>\n",
       "      <td>wealth_segment</td>\n",
       "      <td>deceased_indicator</td>\n",
       "      <td>default</td>\n",
       "      <td>owns_car</td>\n",
       "      <td>tenure</td>\n",
       "    </tr>\n",
       "    <tr>\n",
       "      <th>1</th>\n",
       "      <td>1</td>\n",
       "      <td>Laraine</td>\n",
       "      <td>Medendorp</td>\n",
       "      <td>F</td>\n",
       "      <td>93</td>\n",
       "      <td>1953-10-12 00:00:00</td>\n",
       "      <td>Executive Secretary</td>\n",
       "      <td>Health</td>\n",
       "      <td>Mass Customer</td>\n",
       "      <td>N</td>\n",
       "      <td>\"'</td>\n",
       "      <td>Yes</td>\n",
       "      <td>11</td>\n",
       "    </tr>\n",
       "  </tbody>\n",
       "</table>\n",
       "</div>"
      ],
      "text/plain": [
       "  Note: The data and information in this document is reflective of a hypothetical situation and client. This document is to be used for KPMG Virtual Internship purposes only.    \n",
       "0                                        customer_id                                                                                                                             \\\n",
       "1                                                  1                                                                                                                              \n",
       "\n",
       "   Unnamed: 1 Unnamed: 2 Unnamed: 3                           Unnamed: 4   \n",
       "0  first_name  last_name     gender  past_3_years_bike_related_purchases  \\\n",
       "1     Laraine  Medendorp          F                                   93   \n",
       "\n",
       "            Unnamed: 5           Unnamed: 6             Unnamed: 7   \n",
       "0                  DOB            job_title  job_industry_category  \\\n",
       "1  1953-10-12 00:00:00  Executive Secretary                 Health   \n",
       "\n",
       "       Unnamed: 8          Unnamed: 9 Unnamed: 10 Unnamed: 11 Unnamed: 12  \n",
       "0  wealth_segment  deceased_indicator     default    owns_car      tenure  \n",
       "1   Mass Customer                   N          \"'         Yes          11  "
      ]
     },
     "execution_count": 5,
     "metadata": {},
     "output_type": "execute_result"
    }
   ],
   "source": [
    "CustomerDemographic.head(2)"
   ]
  },
  {
   "cell_type": "code",
   "execution_count": 6,
   "id": "ddcc3c8a",
   "metadata": {},
   "outputs": [
    {
     "data": {
      "text/html": [
       "<div>\n",
       "<style scoped>\n",
       "    .dataframe tbody tr th:only-of-type {\n",
       "        vertical-align: middle;\n",
       "    }\n",
       "\n",
       "    .dataframe tbody tr th {\n",
       "        vertical-align: top;\n",
       "    }\n",
       "\n",
       "    .dataframe thead th {\n",
       "        text-align: right;\n",
       "    }\n",
       "</style>\n",
       "<table border=\"1\" class=\"dataframe\">\n",
       "  <thead>\n",
       "    <tr style=\"text-align: right;\">\n",
       "      <th></th>\n",
       "      <th>Note: The data and information in this document is reflective of a hypothetical situation and client. This document is to be used for KPMG Virtual Internship purposes only.</th>\n",
       "      <th>Unnamed: 1</th>\n",
       "      <th>Unnamed: 2</th>\n",
       "      <th>Unnamed: 3</th>\n",
       "      <th>Unnamed: 4</th>\n",
       "      <th>Unnamed: 5</th>\n",
       "    </tr>\n",
       "  </thead>\n",
       "  <tbody>\n",
       "    <tr>\n",
       "      <th>0</th>\n",
       "      <td>customer_id</td>\n",
       "      <td>address</td>\n",
       "      <td>postcode</td>\n",
       "      <td>state</td>\n",
       "      <td>country</td>\n",
       "      <td>property_valuation</td>\n",
       "    </tr>\n",
       "    <tr>\n",
       "      <th>1</th>\n",
       "      <td>1</td>\n",
       "      <td>060 Morning Avenue</td>\n",
       "      <td>2016</td>\n",
       "      <td>New South Wales</td>\n",
       "      <td>Australia</td>\n",
       "      <td>10</td>\n",
       "    </tr>\n",
       "  </tbody>\n",
       "</table>\n",
       "</div>"
      ],
      "text/plain": [
       "  Note: The data and information in this document is reflective of a hypothetical situation and client. This document is to be used for KPMG Virtual Internship purposes only.    \n",
       "0                                        customer_id                                                                                                                             \\\n",
       "1                                                  1                                                                                                                              \n",
       "\n",
       "           Unnamed: 1 Unnamed: 2       Unnamed: 3 Unnamed: 4   \n",
       "0             address   postcode            state    country  \\\n",
       "1  060 Morning Avenue       2016  New South Wales  Australia   \n",
       "\n",
       "           Unnamed: 5  \n",
       "0  property_valuation  \n",
       "1                  10  "
      ]
     },
     "execution_count": 6,
     "metadata": {},
     "output_type": "execute_result"
    }
   ],
   "source": [
    "CustomerAdress.head(2)"
   ]
  },
  {
   "cell_type": "markdown",
   "id": "3c7db606",
   "metadata": {},
   "source": [
    "# Transaction Table"
   ]
  },
  {
   "cell_type": "code",
   "execution_count": 7,
   "id": "e5670536",
   "metadata": {},
   "outputs": [],
   "source": [
    "Transactions.columns = Transactions.iloc[0]"
   ]
  },
  {
   "cell_type": "code",
   "execution_count": 8,
   "id": "a4f2f619",
   "metadata": {},
   "outputs": [
    {
     "data": {
      "text/html": [
       "<div>\n",
       "<style scoped>\n",
       "    .dataframe tbody tr th:only-of-type {\n",
       "        vertical-align: middle;\n",
       "    }\n",
       "\n",
       "    .dataframe tbody tr th {\n",
       "        vertical-align: top;\n",
       "    }\n",
       "\n",
       "    .dataframe thead th {\n",
       "        text-align: right;\n",
       "    }\n",
       "</style>\n",
       "<table border=\"1\" class=\"dataframe\">\n",
       "  <thead>\n",
       "    <tr style=\"text-align: right;\">\n",
       "      <th></th>\n",
       "      <th>transaction_id</th>\n",
       "      <th>product_id</th>\n",
       "      <th>customer_id</th>\n",
       "      <th>transaction_date</th>\n",
       "      <th>online_order</th>\n",
       "      <th>order_status</th>\n",
       "      <th>brand</th>\n",
       "      <th>product_line</th>\n",
       "      <th>product_class</th>\n",
       "      <th>product_size</th>\n",
       "      <th>list_price</th>\n",
       "      <th>standard_cost</th>\n",
       "      <th>product_first_sold_date</th>\n",
       "    </tr>\n",
       "  </thead>\n",
       "  <tbody>\n",
       "    <tr>\n",
       "      <th>0</th>\n",
       "      <td>transaction_id</td>\n",
       "      <td>product_id</td>\n",
       "      <td>customer_id</td>\n",
       "      <td>transaction_date</td>\n",
       "      <td>online_order</td>\n",
       "      <td>order_status</td>\n",
       "      <td>brand</td>\n",
       "      <td>product_line</td>\n",
       "      <td>product_class</td>\n",
       "      <td>product_size</td>\n",
       "      <td>list_price</td>\n",
       "      <td>standard_cost</td>\n",
       "      <td>product_first_sold_date</td>\n",
       "    </tr>\n",
       "    <tr>\n",
       "      <th>1</th>\n",
       "      <td>1</td>\n",
       "      <td>2</td>\n",
       "      <td>2950</td>\n",
       "      <td>2017-02-25 00:00:00</td>\n",
       "      <td>False</td>\n",
       "      <td>Approved</td>\n",
       "      <td>Solex</td>\n",
       "      <td>Standard</td>\n",
       "      <td>medium</td>\n",
       "      <td>medium</td>\n",
       "      <td>71.49</td>\n",
       "      <td>53.62</td>\n",
       "      <td>41245</td>\n",
       "    </tr>\n",
       "    <tr>\n",
       "      <th>2</th>\n",
       "      <td>2</td>\n",
       "      <td>3</td>\n",
       "      <td>3120</td>\n",
       "      <td>2017-05-21 00:00:00</td>\n",
       "      <td>True</td>\n",
       "      <td>Approved</td>\n",
       "      <td>Trek Bicycles</td>\n",
       "      <td>Standard</td>\n",
       "      <td>medium</td>\n",
       "      <td>large</td>\n",
       "      <td>2091.47</td>\n",
       "      <td>388.92</td>\n",
       "      <td>41701</td>\n",
       "    </tr>\n",
       "    <tr>\n",
       "      <th>3</th>\n",
       "      <td>3</td>\n",
       "      <td>37</td>\n",
       "      <td>402</td>\n",
       "      <td>2017-10-16 00:00:00</td>\n",
       "      <td>False</td>\n",
       "      <td>Approved</td>\n",
       "      <td>OHM Cycles</td>\n",
       "      <td>Standard</td>\n",
       "      <td>low</td>\n",
       "      <td>medium</td>\n",
       "      <td>1793.43</td>\n",
       "      <td>248.82</td>\n",
       "      <td>36361</td>\n",
       "    </tr>\n",
       "    <tr>\n",
       "      <th>4</th>\n",
       "      <td>4</td>\n",
       "      <td>88</td>\n",
       "      <td>3135</td>\n",
       "      <td>2017-08-31 00:00:00</td>\n",
       "      <td>False</td>\n",
       "      <td>Approved</td>\n",
       "      <td>Norco Bicycles</td>\n",
       "      <td>Standard</td>\n",
       "      <td>medium</td>\n",
       "      <td>medium</td>\n",
       "      <td>1198.46</td>\n",
       "      <td>381.1</td>\n",
       "      <td>36145</td>\n",
       "    </tr>\n",
       "  </tbody>\n",
       "</table>\n",
       "</div>"
      ],
      "text/plain": [
       "0  transaction_id  product_id  customer_id     transaction_date  online_order   \n",
       "0  transaction_id  product_id  customer_id     transaction_date  online_order  \\\n",
       "1               1           2         2950  2017-02-25 00:00:00         False   \n",
       "2               2           3         3120  2017-05-21 00:00:00          True   \n",
       "3               3          37          402  2017-10-16 00:00:00         False   \n",
       "4               4          88         3135  2017-08-31 00:00:00         False   \n",
       "\n",
       "0  order_status           brand  product_line  product_class  product_size   \n",
       "0  order_status           brand  product_line  product_class  product_size  \\\n",
       "1      Approved           Solex      Standard         medium        medium   \n",
       "2      Approved   Trek Bicycles      Standard         medium         large   \n",
       "3      Approved      OHM Cycles      Standard            low        medium   \n",
       "4      Approved  Norco Bicycles      Standard         medium        medium   \n",
       "\n",
       "0  list_price  standard_cost  product_first_sold_date  \n",
       "0  list_price  standard_cost  product_first_sold_date  \n",
       "1       71.49          53.62                    41245  \n",
       "2     2091.47         388.92                    41701  \n",
       "3     1793.43         248.82                    36361  \n",
       "4     1198.46          381.1                    36145  "
      ]
     },
     "execution_count": 8,
     "metadata": {},
     "output_type": "execute_result"
    }
   ],
   "source": [
    "Transactions.head()"
   ]
  },
  {
   "cell_type": "code",
   "execution_count": 9,
   "id": "03841ccb",
   "metadata": {},
   "outputs": [],
   "source": [
    "Transactions.drop(0, axis=0, inplace=True)"
   ]
  },
  {
   "cell_type": "code",
   "execution_count": 10,
   "id": "7552387d",
   "metadata": {},
   "outputs": [],
   "source": [
    "Transactions.reset_index(inplace = True)"
   ]
  },
  {
   "cell_type": "code",
   "execution_count": 11,
   "id": "33bd5ad7",
   "metadata": {},
   "outputs": [
    {
     "data": {
      "text/html": [
       "<div>\n",
       "<style scoped>\n",
       "    .dataframe tbody tr th:only-of-type {\n",
       "        vertical-align: middle;\n",
       "    }\n",
       "\n",
       "    .dataframe tbody tr th {\n",
       "        vertical-align: top;\n",
       "    }\n",
       "\n",
       "    .dataframe thead th {\n",
       "        text-align: right;\n",
       "    }\n",
       "</style>\n",
       "<table border=\"1\" class=\"dataframe\">\n",
       "  <thead>\n",
       "    <tr style=\"text-align: right;\">\n",
       "      <th></th>\n",
       "      <th>index</th>\n",
       "      <th>transaction_id</th>\n",
       "      <th>product_id</th>\n",
       "      <th>customer_id</th>\n",
       "      <th>transaction_date</th>\n",
       "      <th>online_order</th>\n",
       "      <th>order_status</th>\n",
       "      <th>brand</th>\n",
       "      <th>product_line</th>\n",
       "      <th>product_class</th>\n",
       "      <th>product_size</th>\n",
       "      <th>list_price</th>\n",
       "      <th>standard_cost</th>\n",
       "      <th>product_first_sold_date</th>\n",
       "    </tr>\n",
       "  </thead>\n",
       "  <tbody>\n",
       "    <tr>\n",
       "      <th>0</th>\n",
       "      <td>1</td>\n",
       "      <td>1</td>\n",
       "      <td>2</td>\n",
       "      <td>2950</td>\n",
       "      <td>2017-02-25 00:00:00</td>\n",
       "      <td>False</td>\n",
       "      <td>Approved</td>\n",
       "      <td>Solex</td>\n",
       "      <td>Standard</td>\n",
       "      <td>medium</td>\n",
       "      <td>medium</td>\n",
       "      <td>71.49</td>\n",
       "      <td>53.62</td>\n",
       "      <td>41245</td>\n",
       "    </tr>\n",
       "    <tr>\n",
       "      <th>1</th>\n",
       "      <td>2</td>\n",
       "      <td>2</td>\n",
       "      <td>3</td>\n",
       "      <td>3120</td>\n",
       "      <td>2017-05-21 00:00:00</td>\n",
       "      <td>True</td>\n",
       "      <td>Approved</td>\n",
       "      <td>Trek Bicycles</td>\n",
       "      <td>Standard</td>\n",
       "      <td>medium</td>\n",
       "      <td>large</td>\n",
       "      <td>2091.47</td>\n",
       "      <td>388.92</td>\n",
       "      <td>41701</td>\n",
       "    </tr>\n",
       "    <tr>\n",
       "      <th>2</th>\n",
       "      <td>3</td>\n",
       "      <td>3</td>\n",
       "      <td>37</td>\n",
       "      <td>402</td>\n",
       "      <td>2017-10-16 00:00:00</td>\n",
       "      <td>False</td>\n",
       "      <td>Approved</td>\n",
       "      <td>OHM Cycles</td>\n",
       "      <td>Standard</td>\n",
       "      <td>low</td>\n",
       "      <td>medium</td>\n",
       "      <td>1793.43</td>\n",
       "      <td>248.82</td>\n",
       "      <td>36361</td>\n",
       "    </tr>\n",
       "    <tr>\n",
       "      <th>3</th>\n",
       "      <td>4</td>\n",
       "      <td>4</td>\n",
       "      <td>88</td>\n",
       "      <td>3135</td>\n",
       "      <td>2017-08-31 00:00:00</td>\n",
       "      <td>False</td>\n",
       "      <td>Approved</td>\n",
       "      <td>Norco Bicycles</td>\n",
       "      <td>Standard</td>\n",
       "      <td>medium</td>\n",
       "      <td>medium</td>\n",
       "      <td>1198.46</td>\n",
       "      <td>381.1</td>\n",
       "      <td>36145</td>\n",
       "    </tr>\n",
       "    <tr>\n",
       "      <th>4</th>\n",
       "      <td>5</td>\n",
       "      <td>5</td>\n",
       "      <td>78</td>\n",
       "      <td>787</td>\n",
       "      <td>2017-10-01 00:00:00</td>\n",
       "      <td>True</td>\n",
       "      <td>Approved</td>\n",
       "      <td>Giant Bicycles</td>\n",
       "      <td>Standard</td>\n",
       "      <td>medium</td>\n",
       "      <td>large</td>\n",
       "      <td>1765.3</td>\n",
       "      <td>709.48</td>\n",
       "      <td>42226</td>\n",
       "    </tr>\n",
       "  </tbody>\n",
       "</table>\n",
       "</div>"
      ],
      "text/plain": [
       "0  index transaction_id product_id customer_id     transaction_date   \n",
       "0      1              1          2        2950  2017-02-25 00:00:00  \\\n",
       "1      2              2          3        3120  2017-05-21 00:00:00   \n",
       "2      3              3         37         402  2017-10-16 00:00:00   \n",
       "3      4              4         88        3135  2017-08-31 00:00:00   \n",
       "4      5              5         78         787  2017-10-01 00:00:00   \n",
       "\n",
       "0 online_order order_status           brand product_line product_class   \n",
       "0        False     Approved           Solex     Standard        medium  \\\n",
       "1         True     Approved   Trek Bicycles     Standard        medium   \n",
       "2        False     Approved      OHM Cycles     Standard           low   \n",
       "3        False     Approved  Norco Bicycles     Standard        medium   \n",
       "4         True     Approved  Giant Bicycles     Standard        medium   \n",
       "\n",
       "0 product_size list_price standard_cost product_first_sold_date  \n",
       "0       medium      71.49         53.62                   41245  \n",
       "1        large    2091.47        388.92                   41701  \n",
       "2       medium    1793.43        248.82                   36361  \n",
       "3       medium    1198.46         381.1                   36145  \n",
       "4        large     1765.3        709.48                   42226  "
      ]
     },
     "execution_count": 11,
     "metadata": {},
     "output_type": "execute_result"
    }
   ],
   "source": [
    "Transactions.head()"
   ]
  },
  {
   "cell_type": "code",
   "execution_count": 12,
   "id": "9026f8aa",
   "metadata": {},
   "outputs": [
    {
     "data": {
      "text/plain": [
       "Index(['index', 'transaction_id', 'product_id', 'customer_id',\n",
       "       'transaction_date', 'online_order', 'order_status', 'brand',\n",
       "       'product_line', 'product_class', 'product_size', 'list_price',\n",
       "       'standard_cost', 'product_first_sold_date'],\n",
       "      dtype='object', name=0)"
      ]
     },
     "execution_count": 12,
     "metadata": {},
     "output_type": "execute_result"
    }
   ],
   "source": [
    "Transactions.columns"
   ]
  },
  {
   "cell_type": "code",
   "execution_count": 13,
   "id": "66d1559c",
   "metadata": {},
   "outputs": [
    {
     "name": "stdout",
     "output_type": "stream",
     "text": [
      "<class 'pandas.core.frame.DataFrame'>\n",
      "RangeIndex: 20000 entries, 0 to 19999\n",
      "Data columns (total 14 columns):\n",
      " #   Column                   Non-Null Count  Dtype \n",
      "---  ------                   --------------  ----- \n",
      " 0   index                    20000 non-null  int64 \n",
      " 1   transaction_id           20000 non-null  object\n",
      " 2   product_id               20000 non-null  object\n",
      " 3   customer_id              20000 non-null  object\n",
      " 4   transaction_date         20000 non-null  object\n",
      " 5   online_order             19640 non-null  object\n",
      " 6   order_status             20000 non-null  object\n",
      " 7   brand                    19803 non-null  object\n",
      " 8   product_line             19803 non-null  object\n",
      " 9   product_class            19803 non-null  object\n",
      " 10  product_size             19803 non-null  object\n",
      " 11  list_price               20000 non-null  object\n",
      " 12  standard_cost            19803 non-null  object\n",
      " 13  product_first_sold_date  19803 non-null  object\n",
      "dtypes: int64(1), object(13)\n",
      "memory usage: 2.1+ MB\n"
     ]
    }
   ],
   "source": [
    "Transactions.info()"
   ]
  },
  {
   "cell_type": "markdown",
   "id": "ec8878bc",
   "metadata": {},
   "source": [
    "#### we have 20000 elements for transactions_id but  note that Brand, product_line, online order \n",
    "#### they have less which means 'MISSING DATA'"
   ]
  },
  {
   "cell_type": "code",
   "execution_count": 14,
   "id": "943a15e1",
   "metadata": {},
   "outputs": [],
   "source": [
    "#transforming missing data in booleans to visualize them in heatmap for each table\n",
    "nulls_Transactions=Transactions.isnull()\n",
    "\n",
    "#nulls_CustomerDemographic=CustomerDemographic.isnull()\n",
    "#nulls_CustomerAdress=CustomerAdress.isnull()"
   ]
  },
  {
   "cell_type": "markdown",
   "id": "01e044f7",
   "metadata": {},
   "source": []
  },
  {
   "cell_type": "code",
   "execution_count": 15,
   "id": "875e6708",
   "metadata": {},
   "outputs": [
    {
     "data": {
      "text/plain": [
       "Text(0.5, 1.0, 'Transactions Missing values')"
      ]
     },
     "execution_count": 15,
     "metadata": {},
     "output_type": "execute_result"
    },
    {
     "data": {
      "image/png": "[encoded data removed]",
      "text/plain": [
       "<Figure size 640x480 with 1 Axes>"
      ]
     },
     "metadata": {},
     "output_type": "display_data"
    }
   ],
   "source": [
    "sns.heatmap(nulls_Transactions, yticklabels = False,cbar= False)\n",
    "plt.title('Transactions Missing values')"
   ]
  },
  {
   "cell_type": "markdown",
   "id": "25e6dc68",
   "metadata": {},
   "source": [
    "### checking number of missing data per column"
   ]
  },
  {
   "cell_type": "code",
   "execution_count": 16,
   "id": "6fbfd413",
   "metadata": {},
   "outputs": [
    {
     "data": {
      "text/plain": [
       "0\n",
       "index                        0\n",
       "transaction_id               0\n",
       "product_id                   0\n",
       "customer_id                  0\n",
       "transaction_date             0\n",
       "online_order               360\n",
       "order_status                 0\n",
       "brand                      197\n",
       "product_line               197\n",
       "product_class              197\n",
       "product_size               197\n",
       "list_price                   0\n",
       "standard_cost              197\n",
       "product_first_sold_date    197\n",
       "dtype: int64"
      ]
     },
     "execution_count": 16,
     "metadata": {},
     "output_type": "execute_result"
    }
   ],
   "source": [
    "Transactions.isnull().sum()"
   ]
  },
  {
   "cell_type": "code",
   "execution_count": null,
   "id": "52b85bd0",
   "metadata": {},
   "outputs": [],
   "source": []
  },
  {
   "cell_type": "code",
   "execution_count": null,
   "id": "17051a43",
   "metadata": {},
   "outputs": [],
   "source": []
  },
  {
   "cell_type": "markdown",
   "id": "b710f107",
   "metadata": {},
   "source": [
    "### Recomendation to deal with missing values is :retrievw the data if it exists, use imputation method, replacing with the median or the mode depending on the data, or simply drop the N/A if they the amount of N/A is acceptable."
   ]
  },
  {
   "cell_type": "code",
   "execution_count": 17,
   "id": "131363ea",
   "metadata": {},
   "outputs": [
    {
     "data": {
      "text/plain": [
       "count     20000\n",
       "unique    20000\n",
       "top           1\n",
       "freq          1\n",
       "Name: transaction_id, dtype: int64"
      ]
     },
     "execution_count": 17,
     "metadata": {},
     "output_type": "execute_result"
    }
   ],
   "source": [
    "Transactions['transaction_id'].describe()"
   ]
  },
  {
   "cell_type": "markdown",
   "id": "bb266ac7",
   "metadata": {},
   "source": [
    "#### no duplicate data\n",
    "\n",
    "#### The product first_sold date does not seem to be a date format, or even a wrong formatted date, maybe it should be reviewed"
   ]
  },
  {
   "cell_type": "code",
   "execution_count": 18,
   "id": "63509a94",
   "metadata": {},
   "outputs": [
    {
     "name": "stdout",
     "output_type": "stream",
     "text": [
      "maxDate is:  2017-12-30 00:00:00\n",
      "minDtae is: 2017-01-01 00:00:00\n"
     ]
    }
   ],
   "source": [
    "#reviewing transaction date column\n",
    "\n",
    "print('maxDate is: ' , Transactions['transaction_date'].max())\n",
    "\n",
    "print ('minDtae is:', Transactions['transaction_date'].min())"
   ]
  },
  {
   "cell_type": "code",
   "execution_count": 19,
   "id": "c4bad51a",
   "metadata": {},
   "outputs": [
    {
     "data": {
      "text/plain": [
       "datetime.datetime(2017, 5, 21, 0, 0)"
      ]
     },
     "execution_count": 19,
     "metadata": {},
     "output_type": "execute_result"
    }
   ],
   "source": [
    "Transactions['transaction_date'][1]"
   ]
  },
  {
   "cell_type": "code",
   "execution_count": 20,
   "id": "43e8b6f2",
   "metadata": {},
   "outputs": [
    {
     "data": {
      "text/plain": [
       "array(['Approved', 'Cancelled'], dtype=object)"
      ]
     },
     "execution_count": 20,
     "metadata": {},
     "output_type": "execute_result"
    }
   ],
   "source": [
    "#reviewewing order status consistency\n",
    "Transactions['order_status'].unique()"
   ]
  },
  {
   "cell_type": "code",
   "execution_count": null,
   "id": "17015ce2",
   "metadata": {},
   "outputs": [],
   "source": []
  },
  {
   "cell_type": "code",
   "execution_count": 21,
   "id": "fe1dbc9d",
   "metadata": {},
   "outputs": [
    {
     "data": {
      "text/plain": [
       "array(['Solex', 'Trek Bicycles', 'OHM Cycles', 'Norco Bicycles',\n",
       "       'Giant Bicycles', 'WeareA2B', nan], dtype=object)"
      ]
     },
     "execution_count": 21,
     "metadata": {},
     "output_type": "execute_result"
    }
   ],
   "source": [
    "#reviewewing Brands consistency\n",
    "Transactions['brand'].unique()"
   ]
  },
  {
   "cell_type": "code",
   "execution_count": 22,
   "id": "25824bad",
   "metadata": {},
   "outputs": [
    {
     "name": "stdout",
     "output_type": "stream",
     "text": [
      "maxPrice is:  2091.47\n",
      "minPrice is: 12.01\n"
     ]
    }
   ],
   "source": [
    "#reviewewing list price columms\n",
    "print('maxPrice is: ' , Transactions['list_price'].max())\n",
    "\n",
    "print ('minPrice is:', Transactions['list_price'].min())"
   ]
  },
  {
   "cell_type": "code",
   "execution_count": 23,
   "id": "90939710",
   "metadata": {},
   "outputs": [
    {
     "data": {
      "text/plain": [
       "<Axes: ylabel='Frequency'>"
      ]
     },
     "execution_count": 23,
     "metadata": {},
     "output_type": "execute_result"
    },
    {
     "data": {
      "image/png": "[encoded data removed]",
      "text/plain": [
       "<Figure size 640x480 with 1 Axes>"
      ]
     },
     "metadata": {},
     "output_type": "display_data"
    }
   ],
   "source": [
    "Transactions['list_price'].plot(kind='hist', bins =15, edgecolor='gray')"
   ]
  },
  {
   "cell_type": "code",
   "execution_count": null,
   "id": "e2e9aff9",
   "metadata": {},
   "outputs": [],
   "source": []
  },
  {
   "cell_type": "markdown",
   "id": "3447c0f3",
   "metadata": {},
   "source": [
    "# NewCustomerList Table"
   ]
  },
  {
   "cell_type": "code",
   "execution_count": 24,
   "id": "814cbd99",
   "metadata": {},
   "outputs": [],
   "source": [
    "NewCustomerList = pd.read_excel(xls, 'NewCustomerList')"
   ]
  },
  {
   "cell_type": "code",
   "execution_count": 25,
   "id": "e98ccd4f",
   "metadata": {},
   "outputs": [
    {
     "data": {
      "text/html": [
       "<div>\n",
       "<style scoped>\n",
       "    .dataframe tbody tr th:only-of-type {\n",
       "        vertical-align: middle;\n",
       "    }\n",
       "\n",
       "    .dataframe tbody tr th {\n",
       "        vertical-align: top;\n",
       "    }\n",
       "\n",
       "    .dataframe thead th {\n",
       "        text-align: right;\n",
       "    }\n",
       "</style>\n",
       "<table border=\"1\" class=\"dataframe\">\n",
       "  <thead>\n",
       "    <tr style=\"text-align: right;\">\n",
       "      <th></th>\n",
       "      <th>Note: The data and information in this document is reflective of a hypothetical situation and client. This document is to be used for KPMG Virtual Internship purposes only.</th>\n",
       "      <th>Unnamed: 1</th>\n",
       "      <th>Unnamed: 2</th>\n",
       "      <th>Unnamed: 3</th>\n",
       "      <th>Unnamed: 4</th>\n",
       "      <th>Unnamed: 5</th>\n",
       "      <th>Unnamed: 6</th>\n",
       "      <th>Unnamed: 7</th>\n",
       "      <th>Unnamed: 8</th>\n",
       "      <th>Unnamed: 9</th>\n",
       "      <th>...</th>\n",
       "      <th>Unnamed: 13</th>\n",
       "      <th>Unnamed: 14</th>\n",
       "      <th>Unnamed: 15</th>\n",
       "      <th>Unnamed: 16</th>\n",
       "      <th>Unnamed: 17</th>\n",
       "      <th>Unnamed: 18</th>\n",
       "      <th>Unnamed: 19</th>\n",
       "      <th>Unnamed: 20</th>\n",
       "      <th>Unnamed: 21</th>\n",
       "      <th>Unnamed: 22</th>\n",
       "    </tr>\n",
       "  </thead>\n",
       "  <tbody>\n",
       "    <tr>\n",
       "      <th>0</th>\n",
       "      <td>first_name</td>\n",
       "      <td>last_name</td>\n",
       "      <td>gender</td>\n",
       "      <td>past_3_years_bike_related_purchases</td>\n",
       "      <td>DOB</td>\n",
       "      <td>job_title</td>\n",
       "      <td>job_industry_category</td>\n",
       "      <td>wealth_segment</td>\n",
       "      <td>deceased_indicator</td>\n",
       "      <td>owns_car</td>\n",
       "      <td>...</td>\n",
       "      <td>state</td>\n",
       "      <td>country</td>\n",
       "      <td>property_valuation</td>\n",
       "      <td>NaN</td>\n",
       "      <td>NaN</td>\n",
       "      <td>NaN</td>\n",
       "      <td>NaN</td>\n",
       "      <td>NaN</td>\n",
       "      <td>Rank</td>\n",
       "      <td>Value</td>\n",
       "    </tr>\n",
       "    <tr>\n",
       "      <th>1</th>\n",
       "      <td>Chickie</td>\n",
       "      <td>Brister</td>\n",
       "      <td>Male</td>\n",
       "      <td>86</td>\n",
       "      <td>1957-07-12</td>\n",
       "      <td>General Manager</td>\n",
       "      <td>Manufacturing</td>\n",
       "      <td>Mass Customer</td>\n",
       "      <td>N</td>\n",
       "      <td>Yes</td>\n",
       "      <td>...</td>\n",
       "      <td>QLD</td>\n",
       "      <td>Australia</td>\n",
       "      <td>6</td>\n",
       "      <td>0.43</td>\n",
       "      <td>0.5375</td>\n",
       "      <td>0.671875</td>\n",
       "      <td>0.571094</td>\n",
       "      <td>1.0</td>\n",
       "      <td>1</td>\n",
       "      <td>1.71875</td>\n",
       "    </tr>\n",
       "    <tr>\n",
       "      <th>2</th>\n",
       "      <td>Morly</td>\n",
       "      <td>Genery</td>\n",
       "      <td>Male</td>\n",
       "      <td>69</td>\n",
       "      <td>1970-03-22</td>\n",
       "      <td>Structural Engineer</td>\n",
       "      <td>Property</td>\n",
       "      <td>Mass Customer</td>\n",
       "      <td>N</td>\n",
       "      <td>No</td>\n",
       "      <td>...</td>\n",
       "      <td>NSW</td>\n",
       "      <td>Australia</td>\n",
       "      <td>11</td>\n",
       "      <td>0.49</td>\n",
       "      <td>0.4900</td>\n",
       "      <td>0.612500</td>\n",
       "      <td>0.520625</td>\n",
       "      <td>1.0</td>\n",
       "      <td>1</td>\n",
       "      <td>1.71875</td>\n",
       "    </tr>\n",
       "    <tr>\n",
       "      <th>3</th>\n",
       "      <td>Ardelis</td>\n",
       "      <td>Forrester</td>\n",
       "      <td>Female</td>\n",
       "      <td>10</td>\n",
       "      <td>1974-08-28 00:00:00</td>\n",
       "      <td>Senior Cost Accountant</td>\n",
       "      <td>Financial Services</td>\n",
       "      <td>Affluent Customer</td>\n",
       "      <td>N</td>\n",
       "      <td>No</td>\n",
       "      <td>...</td>\n",
       "      <td>VIC</td>\n",
       "      <td>Australia</td>\n",
       "      <td>5</td>\n",
       "      <td>0.51</td>\n",
       "      <td>0.5100</td>\n",
       "      <td>0.510000</td>\n",
       "      <td>0.510000</td>\n",
       "      <td>1.0</td>\n",
       "      <td>1</td>\n",
       "      <td>1.71875</td>\n",
       "    </tr>\n",
       "    <tr>\n",
       "      <th>4</th>\n",
       "      <td>Lucine</td>\n",
       "      <td>Stutt</td>\n",
       "      <td>Female</td>\n",
       "      <td>64</td>\n",
       "      <td>1979-01-28</td>\n",
       "      <td>Account Representative III</td>\n",
       "      <td>Manufacturing</td>\n",
       "      <td>Affluent Customer</td>\n",
       "      <td>N</td>\n",
       "      <td>Yes</td>\n",
       "      <td>...</td>\n",
       "      <td>QLD</td>\n",
       "      <td>Australia</td>\n",
       "      <td>1</td>\n",
       "      <td>1.07</td>\n",
       "      <td>1.3375</td>\n",
       "      <td>1.337500</td>\n",
       "      <td>1.337500</td>\n",
       "      <td>4.0</td>\n",
       "      <td>4</td>\n",
       "      <td>1.703125</td>\n",
       "    </tr>\n",
       "  </tbody>\n",
       "</table>\n",
       "<p>5 rows × 23 columns</p>\n",
       "</div>"
      ],
      "text/plain": [
       "  Note: The data and information in this document is reflective of a hypothetical situation and client. This document is to be used for KPMG Virtual Internship purposes only.    \n",
       "0                                         first_name                                                                                                                             \\\n",
       "1                                            Chickie                                                                                                                              \n",
       "2                                              Morly                                                                                                                              \n",
       "3                                            Ardelis                                                                                                                              \n",
       "4                                             Lucine                                                                                                                              \n",
       "\n",
       "  Unnamed: 1 Unnamed: 2                           Unnamed: 3   \n",
       "0  last_name     gender  past_3_years_bike_related_purchases  \\\n",
       "1    Brister       Male                                   86   \n",
       "2     Genery       Male                                   69   \n",
       "3  Forrester     Female                                   10   \n",
       "4      Stutt     Female                                   64   \n",
       "\n",
       "            Unnamed: 4                  Unnamed: 5             Unnamed: 6   \n",
       "0                  DOB                   job_title  job_industry_category  \\\n",
       "1           1957-07-12             General Manager          Manufacturing   \n",
       "2           1970-03-22         Structural Engineer               Property   \n",
       "3  1974-08-28 00:00:00      Senior Cost Accountant     Financial Services   \n",
       "4           1979-01-28  Account Representative III          Manufacturing   \n",
       "\n",
       "          Unnamed: 7          Unnamed: 8 Unnamed: 9  ... Unnamed: 13   \n",
       "0     wealth_segment  deceased_indicator   owns_car  ...       state  \\\n",
       "1      Mass Customer                   N        Yes  ...         QLD   \n",
       "2      Mass Customer                   N         No  ...         NSW   \n",
       "3  Affluent Customer                   N         No  ...         VIC   \n",
       "4  Affluent Customer                   N        Yes  ...         QLD   \n",
       "\n",
       "  Unnamed: 14         Unnamed: 15 Unnamed: 16 Unnamed: 17 Unnamed: 18   \n",
       "0     country  property_valuation         NaN         NaN         NaN  \\\n",
       "1   Australia                   6        0.43      0.5375    0.671875   \n",
       "2   Australia                  11        0.49      0.4900    0.612500   \n",
       "3   Australia                   5        0.51      0.5100    0.510000   \n",
       "4   Australia                   1        1.07      1.3375    1.337500   \n",
       "\n",
       "   Unnamed: 19  Unnamed: 20  Unnamed: 21  Unnamed: 22  \n",
       "0          NaN          NaN         Rank        Value  \n",
       "1     0.571094          1.0            1      1.71875  \n",
       "2     0.520625          1.0            1      1.71875  \n",
       "3     0.510000          1.0            1      1.71875  \n",
       "4     1.337500          4.0            4     1.703125  \n",
       "\n",
       "[5 rows x 23 columns]"
      ]
     },
     "execution_count": 25,
     "metadata": {},
     "output_type": "execute_result"
    }
   ],
   "source": [
    "NewCustomerList.head()"
   ]
  },
  {
   "cell_type": "code",
   "execution_count": 26,
   "id": "b1bc2e56",
   "metadata": {},
   "outputs": [],
   "source": [
    "NewCustomerList.columns= NewCustomerList.iloc[0]"
   ]
  },
  {
   "cell_type": "code",
   "execution_count": 27,
   "id": "d3d6b599",
   "metadata": {},
   "outputs": [],
   "source": [
    "NewCustomerList.head(2)\n",
    "NewCustomerList.drop(0, axis=0, inplace=True)\n"
   ]
  },
  {
   "cell_type": "code",
   "execution_count": 28,
   "id": "9920afac",
   "metadata": {
    "scrolled": true
   },
   "outputs": [
    {
     "data": {
      "text/html": [
       "<div>\n",
       "<style scoped>\n",
       "    .dataframe tbody tr th:only-of-type {\n",
       "        vertical-align: middle;\n",
       "    }\n",
       "\n",
       "    .dataframe tbody tr th {\n",
       "        vertical-align: top;\n",
       "    }\n",
       "\n",
       "    .dataframe thead th {\n",
       "        text-align: right;\n",
       "    }\n",
       "</style>\n",
       "<table border=\"1\" class=\"dataframe\">\n",
       "  <thead>\n",
       "    <tr style=\"text-align: right;\">\n",
       "      <th></th>\n",
       "      <th>first_name</th>\n",
       "      <th>last_name</th>\n",
       "      <th>gender</th>\n",
       "      <th>past_3_years_bike_related_purchases</th>\n",
       "      <th>DOB</th>\n",
       "      <th>job_title</th>\n",
       "      <th>job_industry_category</th>\n",
       "      <th>wealth_segment</th>\n",
       "      <th>deceased_indicator</th>\n",
       "      <th>owns_car</th>\n",
       "      <th>...</th>\n",
       "      <th>state</th>\n",
       "      <th>country</th>\n",
       "      <th>property_valuation</th>\n",
       "      <th>NaN</th>\n",
       "      <th>NaN</th>\n",
       "      <th>NaN</th>\n",
       "      <th>NaN</th>\n",
       "      <th>NaN</th>\n",
       "      <th>Rank</th>\n",
       "      <th>Value</th>\n",
       "    </tr>\n",
       "  </thead>\n",
       "  <tbody>\n",
       "    <tr>\n",
       "      <th>1</th>\n",
       "      <td>Chickie</td>\n",
       "      <td>Brister</td>\n",
       "      <td>Male</td>\n",
       "      <td>86</td>\n",
       "      <td>1957-07-12</td>\n",
       "      <td>General Manager</td>\n",
       "      <td>Manufacturing</td>\n",
       "      <td>Mass Customer</td>\n",
       "      <td>N</td>\n",
       "      <td>Yes</td>\n",
       "      <td>...</td>\n",
       "      <td>QLD</td>\n",
       "      <td>Australia</td>\n",
       "      <td>6</td>\n",
       "      <td>0.43</td>\n",
       "      <td>0.5375</td>\n",
       "      <td>0.671875</td>\n",
       "      <td>0.571094</td>\n",
       "      <td>1.0</td>\n",
       "      <td>1</td>\n",
       "      <td>1.71875</td>\n",
       "    </tr>\n",
       "    <tr>\n",
       "      <th>2</th>\n",
       "      <td>Morly</td>\n",
       "      <td>Genery</td>\n",
       "      <td>Male</td>\n",
       "      <td>69</td>\n",
       "      <td>1970-03-22</td>\n",
       "      <td>Structural Engineer</td>\n",
       "      <td>Property</td>\n",
       "      <td>Mass Customer</td>\n",
       "      <td>N</td>\n",
       "      <td>No</td>\n",
       "      <td>...</td>\n",
       "      <td>NSW</td>\n",
       "      <td>Australia</td>\n",
       "      <td>11</td>\n",
       "      <td>0.49</td>\n",
       "      <td>0.4900</td>\n",
       "      <td>0.612500</td>\n",
       "      <td>0.520625</td>\n",
       "      <td>1.0</td>\n",
       "      <td>1</td>\n",
       "      <td>1.71875</td>\n",
       "    </tr>\n",
       "    <tr>\n",
       "      <th>3</th>\n",
       "      <td>Ardelis</td>\n",
       "      <td>Forrester</td>\n",
       "      <td>Female</td>\n",
       "      <td>10</td>\n",
       "      <td>1974-08-28 00:00:00</td>\n",
       "      <td>Senior Cost Accountant</td>\n",
       "      <td>Financial Services</td>\n",
       "      <td>Affluent Customer</td>\n",
       "      <td>N</td>\n",
       "      <td>No</td>\n",
       "      <td>...</td>\n",
       "      <td>VIC</td>\n",
       "      <td>Australia</td>\n",
       "      <td>5</td>\n",
       "      <td>0.51</td>\n",
       "      <td>0.5100</td>\n",
       "      <td>0.510000</td>\n",
       "      <td>0.510000</td>\n",
       "      <td>1.0</td>\n",
       "      <td>1</td>\n",
       "      <td>1.71875</td>\n",
       "    </tr>\n",
       "    <tr>\n",
       "      <th>4</th>\n",
       "      <td>Lucine</td>\n",
       "      <td>Stutt</td>\n",
       "      <td>Female</td>\n",
       "      <td>64</td>\n",
       "      <td>1979-01-28</td>\n",
       "      <td>Account Representative III</td>\n",
       "      <td>Manufacturing</td>\n",
       "      <td>Affluent Customer</td>\n",
       "      <td>N</td>\n",
       "      <td>Yes</td>\n",
       "      <td>...</td>\n",
       "      <td>QLD</td>\n",
       "      <td>Australia</td>\n",
       "      <td>1</td>\n",
       "      <td>1.07</td>\n",
       "      <td>1.3375</td>\n",
       "      <td>1.337500</td>\n",
       "      <td>1.337500</td>\n",
       "      <td>4.0</td>\n",
       "      <td>4</td>\n",
       "      <td>1.703125</td>\n",
       "    </tr>\n",
       "    <tr>\n",
       "      <th>5</th>\n",
       "      <td>Melinda</td>\n",
       "      <td>Hadlee</td>\n",
       "      <td>Female</td>\n",
       "      <td>34</td>\n",
       "      <td>1965-09-21</td>\n",
       "      <td>Financial Analyst</td>\n",
       "      <td>Financial Services</td>\n",
       "      <td>Affluent Customer</td>\n",
       "      <td>N</td>\n",
       "      <td>No</td>\n",
       "      <td>...</td>\n",
       "      <td>NSW</td>\n",
       "      <td>Australia</td>\n",
       "      <td>9</td>\n",
       "      <td>1.10</td>\n",
       "      <td>1.1000</td>\n",
       "      <td>1.375000</td>\n",
       "      <td>1.375000</td>\n",
       "      <td>4.0</td>\n",
       "      <td>4</td>\n",
       "      <td>1.703125</td>\n",
       "    </tr>\n",
       "  </tbody>\n",
       "</table>\n",
       "<p>5 rows × 23 columns</p>\n",
       "</div>"
      ],
      "text/plain": [
       "0 first_name  last_name  gender past_3_years_bike_related_purchases   \n",
       "1    Chickie    Brister    Male                                  86  \\\n",
       "2      Morly     Genery    Male                                  69   \n",
       "3    Ardelis  Forrester  Female                                  10   \n",
       "4     Lucine      Stutt  Female                                  64   \n",
       "5    Melinda     Hadlee  Female                                  34   \n",
       "\n",
       "0                  DOB                   job_title job_industry_category   \n",
       "1           1957-07-12             General Manager         Manufacturing  \\\n",
       "2           1970-03-22         Structural Engineer              Property   \n",
       "3  1974-08-28 00:00:00      Senior Cost Accountant    Financial Services   \n",
       "4           1979-01-28  Account Representative III         Manufacturing   \n",
       "5           1965-09-21           Financial Analyst    Financial Services   \n",
       "\n",
       "0     wealth_segment deceased_indicator owns_car  ... state    country   \n",
       "1      Mass Customer                  N      Yes  ...   QLD  Australia  \\\n",
       "2      Mass Customer                  N       No  ...   NSW  Australia   \n",
       "3  Affluent Customer                  N       No  ...   VIC  Australia   \n",
       "4  Affluent Customer                  N      Yes  ...   QLD  Australia   \n",
       "5  Affluent Customer                  N       No  ...   NSW  Australia   \n",
       "\n",
       "0 property_valuation   NaN     NaN       NaN       NaN  NaN  Rank     Value  \n",
       "1                  6  0.43  0.5375  0.671875  0.571094  1.0     1   1.71875  \n",
       "2                 11  0.49  0.4900  0.612500  0.520625  1.0     1   1.71875  \n",
       "3                  5  0.51  0.5100  0.510000  0.510000  1.0     1   1.71875  \n",
       "4                  1  1.07  1.3375  1.337500  1.337500  4.0     4  1.703125  \n",
       "5                  9  1.10  1.1000  1.375000  1.375000  4.0     4  1.703125  \n",
       "\n",
       "[5 rows x 23 columns]"
      ]
     },
     "execution_count": 28,
     "metadata": {},
     "output_type": "execute_result"
    }
   ],
   "source": [
    "NewCustomerList.head()"
   ]
  },
  {
   "cell_type": "code",
   "execution_count": 29,
   "id": "8239d160",
   "metadata": {},
   "outputs": [],
   "source": [
    "NewCustomerList.reset_index(inplace= True)"
   ]
  },
  {
   "cell_type": "code",
   "execution_count": 30,
   "id": "243c33d1",
   "metadata": {},
   "outputs": [
    {
     "data": {
      "text/html": [
       "<div>\n",
       "<style scoped>\n",
       "    .dataframe tbody tr th:only-of-type {\n",
       "        vertical-align: middle;\n",
       "    }\n",
       "\n",
       "    .dataframe tbody tr th {\n",
       "        vertical-align: top;\n",
       "    }\n",
       "\n",
       "    .dataframe thead th {\n",
       "        text-align: right;\n",
       "    }\n",
       "</style>\n",
       "<table border=\"1\" class=\"dataframe\">\n",
       "  <thead>\n",
       "    <tr style=\"text-align: right;\">\n",
       "      <th></th>\n",
       "      <th>index</th>\n",
       "      <th>first_name</th>\n",
       "      <th>last_name</th>\n",
       "      <th>gender</th>\n",
       "      <th>past_3_years_bike_related_purchases</th>\n",
       "      <th>DOB</th>\n",
       "      <th>job_title</th>\n",
       "      <th>job_industry_category</th>\n",
       "      <th>wealth_segment</th>\n",
       "      <th>deceased_indicator</th>\n",
       "      <th>...</th>\n",
       "      <th>state</th>\n",
       "      <th>country</th>\n",
       "      <th>property_valuation</th>\n",
       "      <th>NaN</th>\n",
       "      <th>NaN</th>\n",
       "      <th>NaN</th>\n",
       "      <th>NaN</th>\n",
       "      <th>NaN</th>\n",
       "      <th>Rank</th>\n",
       "      <th>Value</th>\n",
       "    </tr>\n",
       "  </thead>\n",
       "  <tbody>\n",
       "    <tr>\n",
       "      <th>0</th>\n",
       "      <td>1</td>\n",
       "      <td>Chickie</td>\n",
       "      <td>Brister</td>\n",
       "      <td>Male</td>\n",
       "      <td>86</td>\n",
       "      <td>1957-07-12</td>\n",
       "      <td>General Manager</td>\n",
       "      <td>Manufacturing</td>\n",
       "      <td>Mass Customer</td>\n",
       "      <td>N</td>\n",
       "      <td>...</td>\n",
       "      <td>QLD</td>\n",
       "      <td>Australia</td>\n",
       "      <td>6</td>\n",
       "      <td>0.43</td>\n",
       "      <td>0.5375</td>\n",
       "      <td>0.671875</td>\n",
       "      <td>0.571094</td>\n",
       "      <td>1.0</td>\n",
       "      <td>1</td>\n",
       "      <td>1.71875</td>\n",
       "    </tr>\n",
       "    <tr>\n",
       "      <th>1</th>\n",
       "      <td>2</td>\n",
       "      <td>Morly</td>\n",
       "      <td>Genery</td>\n",
       "      <td>Male</td>\n",
       "      <td>69</td>\n",
       "      <td>1970-03-22</td>\n",
       "      <td>Structural Engineer</td>\n",
       "      <td>Property</td>\n",
       "      <td>Mass Customer</td>\n",
       "      <td>N</td>\n",
       "      <td>...</td>\n",
       "      <td>NSW</td>\n",
       "      <td>Australia</td>\n",
       "      <td>11</td>\n",
       "      <td>0.49</td>\n",
       "      <td>0.4900</td>\n",
       "      <td>0.612500</td>\n",
       "      <td>0.520625</td>\n",
       "      <td>1.0</td>\n",
       "      <td>1</td>\n",
       "      <td>1.71875</td>\n",
       "    </tr>\n",
       "    <tr>\n",
       "      <th>2</th>\n",
       "      <td>3</td>\n",
       "      <td>Ardelis</td>\n",
       "      <td>Forrester</td>\n",
       "      <td>Female</td>\n",
       "      <td>10</td>\n",
       "      <td>1974-08-28 00:00:00</td>\n",
       "      <td>Senior Cost Accountant</td>\n",
       "      <td>Financial Services</td>\n",
       "      <td>Affluent Customer</td>\n",
       "      <td>N</td>\n",
       "      <td>...</td>\n",
       "      <td>VIC</td>\n",
       "      <td>Australia</td>\n",
       "      <td>5</td>\n",
       "      <td>0.51</td>\n",
       "      <td>0.5100</td>\n",
       "      <td>0.510000</td>\n",
       "      <td>0.510000</td>\n",
       "      <td>1.0</td>\n",
       "      <td>1</td>\n",
       "      <td>1.71875</td>\n",
       "    </tr>\n",
       "  </tbody>\n",
       "</table>\n",
       "<p>3 rows × 24 columns</p>\n",
       "</div>"
      ],
      "text/plain": [
       "0  index first_name  last_name  gender past_3_years_bike_related_purchases   \n",
       "0      1    Chickie    Brister    Male                                  86  \\\n",
       "1      2      Morly     Genery    Male                                  69   \n",
       "2      3    Ardelis  Forrester  Female                                  10   \n",
       "\n",
       "0                  DOB               job_title job_industry_category   \n",
       "0           1957-07-12         General Manager         Manufacturing  \\\n",
       "1           1970-03-22     Structural Engineer              Property   \n",
       "2  1974-08-28 00:00:00  Senior Cost Accountant    Financial Services   \n",
       "\n",
       "0     wealth_segment deceased_indicator  ... state    country   \n",
       "0      Mass Customer                  N  ...   QLD  Australia  \\\n",
       "1      Mass Customer                  N  ...   NSW  Australia   \n",
       "2  Affluent Customer                  N  ...   VIC  Australia   \n",
       "\n",
       "0 property_valuation   NaN     NaN       NaN       NaN  NaN  Rank    Value  \n",
       "0                  6  0.43  0.5375  0.671875  0.571094  1.0     1  1.71875  \n",
       "1                 11  0.49  0.4900  0.612500  0.520625  1.0     1  1.71875  \n",
       "2                  5  0.51  0.5100  0.510000  0.510000  1.0     1  1.71875  \n",
       "\n",
       "[3 rows x 24 columns]"
      ]
     },
     "execution_count": 30,
     "metadata": {},
     "output_type": "execute_result"
    }
   ],
   "source": [
    "NewCustomerList.head(3)"
   ]
  },
  {
   "cell_type": "code",
   "execution_count": 31,
   "id": "8d3fc392",
   "metadata": {},
   "outputs": [],
   "source": [
    "nulls_NewCustomerList=NewCustomerList.isnull()"
   ]
  },
  {
   "cell_type": "code",
   "execution_count": 32,
   "id": "43303454",
   "metadata": {},
   "outputs": [
    {
     "data": {
      "text/plain": [
       "Text(0.5, 1.0, 'NewCustomerList Missing values')"
      ]
     },
     "execution_count": 32,
     "metadata": {},
     "output_type": "execute_result"
    },
    {
     "data": {
      "image/png": "[encoded data removed]",
      "text/plain": [
       "<Figure size 640x480 with 1 Axes>"
      ]
     },
     "metadata": {},
     "output_type": "display_data"
    }
   ],
   "source": [
    "sns.heatmap(nulls_NewCustomerList, yticklabels = False,cbar= False)\n",
    "plt.title('NewCustomerList Missing values')"
   ]
  },
  {
   "cell_type": "code",
   "execution_count": 33,
   "id": "df2dc67c",
   "metadata": {},
   "outputs": [
    {
     "data": {
      "text/plain": [
       "0\n",
       "index                                    0\n",
       "first_name                               0\n",
       "last_name                               29\n",
       "gender                                   0\n",
       "past_3_years_bike_related_purchases      0\n",
       "DOB                                     17\n",
       "job_title                              106\n",
       "job_industry_category                  165\n",
       "wealth_segment                           0\n",
       "deceased_indicator                       0\n",
       "owns_car                                 0\n",
       "tenure                                   0\n",
       "address                                  0\n",
       "postcode                                 0\n",
       "state                                    0\n",
       "country                                  0\n",
       "property_valuation                       0\n",
       "NaN                                      0\n",
       "NaN                                      0\n",
       "NaN                                      0\n",
       "NaN                                      0\n",
       "NaN                                      0\n",
       "Rank                                     0\n",
       "Value                                    0\n",
       "dtype: int64"
      ]
     },
     "execution_count": 33,
     "metadata": {},
     "output_type": "execute_result"
    }
   ],
   "source": [
    "NewCustomerList.isnull().sum()"
   ]
  },
  {
   "cell_type": "markdown",
   "id": "3d8c5759",
   "metadata": {},
   "source": [
    "### Mainly there is null in the last_name, Jobtitle, jon_industy_category columns, maybe that information can be retrieved in other columns with the same information, if not use the recommendations for dealing with data in the Transaction table notes"
   ]
  },
  {
   "cell_type": "code",
   "execution_count": 34,
   "id": "d3bf7f4f",
   "metadata": {},
   "outputs": [
    {
     "name": "stdout",
     "output_type": "stream",
     "text": [
      "<class 'pandas.core.frame.DataFrame'>\n",
      "RangeIndex: 1000 entries, 0 to 999\n",
      "Data columns (total 24 columns):\n",
      " #   Column                               Non-Null Count  Dtype  \n",
      "---  ------                               --------------  -----  \n",
      " 0   index                                1000 non-null   int64  \n",
      " 1   first_name                           1000 non-null   object \n",
      " 2   last_name                            971 non-null    object \n",
      " 3   gender                               1000 non-null   object \n",
      " 4   past_3_years_bike_related_purchases  1000 non-null   object \n",
      " 5   DOB                                  983 non-null    object \n",
      " 6   job_title                            894 non-null    object \n",
      " 7   job_industry_category                835 non-null    object \n",
      " 8   wealth_segment                       1000 non-null   object \n",
      " 9   deceased_indicator                   1000 non-null   object \n",
      " 10  owns_car                             1000 non-null   object \n",
      " 11  tenure                               1000 non-null   object \n",
      " 12  address                              1000 non-null   object \n",
      " 13  postcode                             1000 non-null   object \n",
      " 14  state                                1000 non-null   object \n",
      " 15  country                              1000 non-null   object \n",
      " 16  property_valuation                   1000 non-null   object \n",
      " 17  nan                                  1000 non-null   float64\n",
      " 18  nan                                  1000 non-null   float64\n",
      " 19  nan                                  1000 non-null   float64\n",
      " 20  nan                                  1000 non-null   float64\n",
      " 21  nan                                  1000 non-null   float64\n",
      " 22  Rank                                 1000 non-null   object \n",
      " 23  Value                                1000 non-null   object \n",
      "dtypes: float64(5), int64(1), object(18)\n",
      "memory usage: 187.6+ KB\n"
     ]
    }
   ],
   "source": [
    "NewCustomerList.info()"
   ]
  },
  {
   "cell_type": "markdown",
   "id": "b06c10a5",
   "metadata": {},
   "source": [
    "\n",
    "\n",
    "### propertity_valuation : the numbers look low, or it'll be necessary to verify if this is a kind of standarization or expressions\n",
    "\n",
    "### There are 4 columns named NAN, we'll need to populate those  column names"
   ]
  },
  {
   "cell_type": "code",
   "execution_count": null,
   "id": "2aac2c8b",
   "metadata": {},
   "outputs": [],
   "source": []
  },
  {
   "cell_type": "code",
   "execution_count": 35,
   "id": "d0678f16",
   "metadata": {},
   "outputs": [
    {
     "data": {
      "text/plain": [
       "array(['1957-07-12', '1970-03-22', datetime.datetime(1974, 8, 28, 0, 0),\n",
       "       '1979-01-28', '1965-09-21', '1951-04-29', '1976-10-06',\n",
       "       '1972-12-27', '1972-04-28', '1985-08-02', '1995-01-01',\n",
       "       '1999-08-30', '1990-05-13', '1976-12-09', '1964-04-19',\n",
       "       '1954-03-31', '1993-08-22', datetime.datetime(1976, 6, 8, 0, 0),\n",
       "       '1938-11-09', '1954-08-12', '1968-12-21', '1993-09-29',\n",
       "       '1998-02-05', datetime.datetime(1977, 12, 17, 0, 0), '1982-10-11',\n",
       "       '1945-08-03', '1952-06-27', '1966-07-20', '1960-12-10',\n",
       "       '1960-11-22', '1980-01-26', '1951-11-28', '1987-01-15',\n",
       "       '1981-09-22', datetime.datetime(1977, 5, 9, 0, 0), '1975-05-10',\n",
       "       '1968-03-25', '1979-04-11', '1955-06-13', '1993-08-28',\n",
       "       '1953-02-13', '1985-03-14', '1946-10-25', '1966-09-18',\n",
       "       '1961-12-05', '1956-08-30', '1956-07-16', '1994-12-04',\n",
       "       '1977-05-14', '1950-05-03', datetime.datetime(1978, 2, 11, 0, 0),\n",
       "       '1999-03-22', '1993-12-19', '1981-12-01', '1995-03-25',\n",
       "       '1981-02-03', '1979-12-17', '1972-10-31', '1966-07-29', nan,\n",
       "       '1983-02-11', '1971-12-29', '1942-02-06', '1967-03-18',\n",
       "       '1999-11-21', '1983-02-01', '1996-07-20', '1984-10-07',\n",
       "       '1999-06-08', '1988-09-18', '1996-08-03', '1994-08-04',\n",
       "       '1999-09-21', '1968-02-16', '1958-04-21', '1974-09-17',\n",
       "       '1961-04-15', '1956-10-22', '1972-01-14', '1973-11-28',\n",
       "       '1995-04-09', '1965-09-08', '1981-02-22',\n",
       "       datetime.datetime(1975, 9, 12, 0, 0), '1961-03-22', '1949-04-29',\n",
       "       '1999-02-15', '1942-11-01', '1950-02-10', '1971-08-18',\n",
       "       '1992-04-19', datetime.datetime(1978, 2, 19, 0, 0), '1977-09-01',\n",
       "       '1952-09-21', datetime.datetime(1978, 12, 14, 0, 0), '1999-10-20',\n",
       "       '1943-02-08', '1994-10-31', '1972-11-02', '2000-05-09',\n",
       "       '1991-01-22', '1994-02-11', '1940-01-18', '1980-10-20',\n",
       "       '1961-10-20', '1946-10-23', '1963-06-16', '1972-04-23',\n",
       "       '1961-10-22', '1969-11-09', '1968-11-15', '1939-12-09',\n",
       "       '1961-11-05', '1995-08-13', datetime.datetime(1977, 11, 8, 0, 0),\n",
       "       '1997-11-13', '1946-07-09', '1978-01-11', '1987-10-08',\n",
       "       '1952-12-14', '1981-10-29', '1997-05-28', '1969-07-20',\n",
       "       '1975-03-13', '1941-02-22', '1956-02-08', '1953-02-27',\n",
       "       '1975-03-10', '1940-02-02', '1990-07-12', '1962-07-28',\n",
       "       '1965-07-03', '1960-03-18', '1985-07-23', '1978-02-05',\n",
       "       '1970-11-08', '1990-05-29', '1967-09-27', '1979-06-18',\n",
       "       '1980-02-11', '1966-07-16', '2001-03-08', '1949-03-06',\n",
       "       '1975-12-27', '1981-08-08', '1950-11-05', '1965-07-15',\n",
       "       '1969-10-02', '1969-05-21', '1971-03-31', '1967-12-18',\n",
       "       '1961-12-26', '1969-02-10', '1961-08-14', '1956-09-04',\n",
       "       '1963-04-24', datetime.datetime(1976, 10, 24, 0, 0), '1957-05-25',\n",
       "       '1978-01-15', '1951-06-11', '1986-08-07', '1995-08-04',\n",
       "       '1969-08-27', '1951-07-10', '1979-05-22', '1976-03-12',\n",
       "       '1973-03-18', '1989-01-05', '1952-07-01', '1986-01-23',\n",
       "       '1955-06-05', '1956-02-22', '1989-11-18', '1995-02-19',\n",
       "       '1955-09-06', '1992-07-05', '1939-01-29', '1952-04-01',\n",
       "       '1950-12-26', '1975-03-26', '1965-01-08', '1974-12-09',\n",
       "       '1946-03-24', '1974-03-25', '1985-09-02', '1992-07-27',\n",
       "       '1971-11-28', datetime.datetime(1973, 5, 9, 0, 0), '1986-11-09',\n",
       "       '1996-05-30', '1992-03-27', '1938-10-16', '1970-03-19',\n",
       "       '1969-08-02', '1944-01-05', '1972-03-10', '1981-02-16',\n",
       "       '1990-01-09', '1993-11-18', '1966-01-02', '1940-12-05',\n",
       "       '1959-04-19', '1945-02-13', '1952-10-20', '1998-11-26',\n",
       "       '1948-10-12', '1976-08-27', '1955-08-18', '1958-01-03',\n",
       "       '1967-05-25', '1967-12-12', '1983-11-26', '1997-03-13',\n",
       "       '1956-10-16', '1947-02-28', '2000-04-07', '1997-09-04',\n",
       "       '1963-01-01', '1980-02-16', '1994-04-15', '1981-06-20',\n",
       "       datetime.datetime(1979, 2, 5, 0, 0), '1966-01-08', '2000-01-25',\n",
       "       datetime.datetime(1977, 12, 6, 0, 0), '2000-06-25', '1964-06-22',\n",
       "       '1954-11-13', '1963-12-13', '1978-05-31', '1943-09-24',\n",
       "       '1965-08-15', '1943-07-14', '1997-07-23', '1940-07-13',\n",
       "       '1943-10-05', '1939-04-04', '1941-10-02', '1961-05-27',\n",
       "       '1974-01-24', '1959-05-08', '1969-09-21', '1957-11-15',\n",
       "       '1950-09-05', '1967-09-11', '1963-05-02', '1971-04-26',\n",
       "       '1978-12-11', '1974-05-14', '1975-03-12', '1967-02-03',\n",
       "       '1961-01-16', '1980-09-16', '1997-09-25', '1939-07-17',\n",
       "       '1959-04-11', '1962-03-03', '2000-09-25', '1971-11-27',\n",
       "       '1969-07-06', '1991-06-07', '1992-11-18', '1948-01-13',\n",
       "       '1996-02-19', '1938-08-31', '1969-11-17', '1973-09-25',\n",
       "       '1951-12-16', '1972-01-17', '1996-07-01', '1961-01-03',\n",
       "       '1976-08-24', '1956-06-28', datetime.datetime(1976, 6, 11, 0, 0),\n",
       "       '1966-03-07', '1953-03-12', '1962-10-06',\n",
       "       datetime.datetime(1976, 3, 7, 0, 0), '1968-10-14', '1971-09-18',\n",
       "       datetime.datetime(1978, 4, 2, 0, 0), '1959-01-05', '1967-01-09',\n",
       "       '1957-03-23', '1947-04-22', '1958-12-28', '1976-04-20',\n",
       "       '1990-11-13', '1981-06-03', '1972-07-30', '1958-12-07',\n",
       "       '1963-05-11', '1980-02-01', '1988-01-30', '1970-08-08',\n",
       "       '1965-02-27', '1991-02-14', '1947-10-08', '1988-01-10',\n",
       "       '1993-08-09', '1981-08-05', '1949-05-20', '1955-07-17',\n",
       "       '1974-08-09', '1954-11-09', '1959-06-12', '1981-02-15',\n",
       "       '1971-08-19', '1991-02-07', '1965-12-13', '1989-12-15',\n",
       "       '1968-11-24', '1992-01-31', '1978-05-13', '1957-10-17',\n",
       "       '1985-03-26', '1955-07-28', '1981-09-11',\n",
       "       datetime.datetime(1976, 11, 6, 0, 0), '1977-04-08', '1981-11-29',\n",
       "       '1992-08-27', '1955-01-08', '1952-05-19', '1982-02-10',\n",
       "       datetime.datetime(1978, 7, 22, 0, 0), '1972-11-26', '1999-06-23',\n",
       "       '1959-12-25', '1997-09-27', '1978-05-27', '1945-08-08',\n",
       "       '1943-08-27', '1999-10-24', '1976-01-24', '1956-06-19',\n",
       "       '1975-03-28', '1969-10-09', '1968-12-11', '1951-11-27',\n",
       "       '1939-12-22', '1964-09-28', '1952-04-15', '1941-07-21',\n",
       "       '1961-02-11', '1953-08-08', '1981-05-26', '1956-12-02',\n",
       "       '1964-10-01', '1944-10-21', '1953-10-19', '2002-02-27',\n",
       "       '1980-07-30', '1944-11-10', '1971-01-11', '1990-07-28',\n",
       "       '1979-10-31', '1997-12-26', '1957-09-03', '1999-11-08',\n",
       "       '1981-08-17', '1971-12-24', '1959-06-13', '1957-10-01',\n",
       "       '1994-10-21', datetime.datetime(1978, 8, 2, 0, 0), '1963-08-20',\n",
       "       '1974-07-05', '1975-08-04', '1960-09-12',\n",
       "       datetime.datetime(1974, 11, 9, 0, 0), '1986-12-03', '1974-06-24',\n",
       "       '1942-01-23', '1963-01-14', '1996-01-24', '1964-01-31',\n",
       "       '1944-10-05', '1995-05-18', '1954-06-14', '1961-09-29',\n",
       "       '1973-08-25', '1993-03-02', '1948-06-30',\n",
       "       datetime.datetime(1979, 2, 26, 0, 0), '1939-08-28', '1982-12-10',\n",
       "       '1950-04-26', '1990-05-20', '1961-12-22', '2002-01-17',\n",
       "       '1961-01-05', '1942-08-09', '1979-03-24', '1976-11-04',\n",
       "       '1967-01-20', '1955-02-13', datetime.datetime(1978, 1, 21, 0, 0),\n",
       "       '1977-09-10', '1980-08-15', '1938-11-29', '1996-02-29',\n",
       "       '1983-03-08', '1957-12-05', '1946-03-15', '1995-12-09',\n",
       "       '1954-07-18', '1958-08-28', '1938-09-10', '1963-10-15',\n",
       "       '1953-05-17', '1989-01-14', '1998-01-12', '1991-12-18',\n",
       "       '1948-01-24', '1970-01-21', '1991-12-01', '1993-10-18',\n",
       "       '1945-11-08', '1947-07-19', '1975-01-08', '1969-02-09',\n",
       "       datetime.datetime(1977, 9, 26, 0, 0), '1940-11-10', '1974-12-12',\n",
       "       '1975-12-22', '1957-11-12', '1978-10-26',\n",
       "       datetime.datetime(1973, 11, 14, 0, 0), '1997-08-27', '1974-08-07',\n",
       "       '1952-10-05', '1941-04-04', '1997-03-17', '1987-03-01',\n",
       "       '1964-01-22', '1972-05-17', '1993-11-27', '1958-04-19',\n",
       "       '1966-04-30', '1977-02-03', '1998-11-22', '1996-11-24',\n",
       "       '1991-12-02', '1943-04-06', '1982-02-01', '1985-01-29',\n",
       "       '1961-07-31', '1976-09-07', '1972-08-27', '1947-03-11',\n",
       "       '1974-11-25', '1940-05-19', '1947-11-26', '1965-02-03',\n",
       "       '1977-03-20', '1993-08-03', '1972-05-19', '1970-12-17',\n",
       "       '2000-12-09', '2001-08-04', '1990-10-19', '1967-03-14',\n",
       "       '1999-11-29', '1956-04-21', '1979-07-28', '2001-12-29',\n",
       "       '1972-07-29', '1995-10-03', '1957-02-14', '1951-04-30',\n",
       "       '1959-03-01', '1939-03-06', '1961-08-27', '1970-01-14',\n",
       "       '1944-10-25', '1966-06-27', '1966-09-14', '1994-03-13',\n",
       "       '1975-06-15', '1975-10-12', '1965-05-28', '1996-02-11',\n",
       "       '1944-06-14', '1977-11-08', '1997-11-01', '1952-05-05',\n",
       "       '1960-05-09', '1989-03-17', '1954-10-21', '1967-02-02',\n",
       "       '1976-09-20', datetime.datetime(1974, 8, 19, 0, 0), '1960-12-19',\n",
       "       datetime.datetime(1975, 9, 11, 0, 0), '1945-07-10', '1980-09-01',\n",
       "       datetime.datetime(1974, 8, 29, 0, 0),\n",
       "       datetime.datetime(1976, 11, 24, 0, 0), '1980-03-14', '1973-10-13',\n",
       "       '1999-05-14', datetime.datetime(1976, 3, 10, 0, 0), '1954-01-30',\n",
       "       '1988-09-30', '1971-06-28', '2001-06-21', '1964-05-15',\n",
       "       '1999-07-28', '1954-10-06', '1951-10-14', '1956-05-17',\n",
       "       '1991-01-23', '1950-09-30', '1980-05-29', '1954-03-10',\n",
       "       '1964-11-06', '1953-05-24', '1972-06-27',\n",
       "       datetime.datetime(1973, 7, 3, 0, 0), '1998-12-19', '1981-09-14',\n",
       "       '1986-01-10', '1955-04-08', '1952-12-04', '1956-05-29',\n",
       "       datetime.datetime(1978, 12, 10, 0, 0), '1994-11-16', '1978-12-14',\n",
       "       '1997-11-29', '1965-04-22', '1976-09-25',\n",
       "       datetime.datetime(1975, 4, 8, 0, 0), '1950-11-30', '1998-02-19',\n",
       "       '1977-06-30', '1972-04-27', '1973-01-06', '1984-07-06',\n",
       "       '1991-04-21', datetime.datetime(1979, 1, 3, 0, 0), '1976-01-16',\n",
       "       '1999-04-21', '1958-05-14', '1995-10-01', '1993-11-02',\n",
       "       '1972-03-24', '1994-02-04', '1947-04-21', '1950-03-31',\n",
       "       '1951-01-29', '1954-03-08', '1994-06-16', '1967-04-07',\n",
       "       '1955-07-06', '1955-11-25', '1964-03-14', '1986-09-25',\n",
       "       '1991-11-24', '2001-09-27', '1968-07-29', '1950-12-09',\n",
       "       '1942-08-23', '1965-02-25', '1998-05-12', '1943-10-27',\n",
       "       '1976-08-12', '1994-10-15', '1973-01-04', '1990-07-06',\n",
       "       '1995-07-18', '1995-12-17', '1951-10-28', '1938-08-30',\n",
       "       '1996-04-13', '1994-04-17', '1974-12-25', '1987-04-20',\n",
       "       '1979-10-22', '1996-05-10', '1965-02-09', '1955-10-22',\n",
       "       datetime.datetime(1973, 3, 15, 0, 0), '1958-07-19',\n",
       "       datetime.datetime(1978, 12, 31, 0, 0), '1994-11-07', '1939-05-26',\n",
       "       '1996-01-21', '1997-06-29', '1973-01-29', '1961-05-23',\n",
       "       '1966-09-19', '1955-07-13', '1979-09-30', '1970-05-19',\n",
       "       '1998-08-24', datetime.datetime(1976, 12, 7, 0, 0), '1969-03-05',\n",
       "       '1950-05-08', '1951-03-19', '1957-06-10', '1963-07-31',\n",
       "       '1956-07-05', datetime.datetime(1973, 10, 3, 0, 0), '1959-01-08',\n",
       "       '1968-12-26', '1955-09-29', '1940-06-07', '1998-01-15',\n",
       "       '1967-01-19', '1960-04-12', '1993-09-20', '1973-07-13',\n",
       "       '1961-04-20', '1939-08-22', '1945-12-24', '1987-05-01',\n",
       "       '1962-09-21', '1975-10-31', '1997-05-18', '1954-01-06',\n",
       "       '1950-03-18', '1978-04-04', '1954-10-19', '1950-05-04',\n",
       "       '1966-08-04', '1968-02-17', '1982-12-15', '1996-05-28',\n",
       "       '1962-07-12', datetime.datetime(1976, 10, 8, 0, 0), '1940-05-23',\n",
       "       '1995-07-19', '1981-07-06', '1942-10-21', '1958-06-25',\n",
       "       '1988-01-07', '1976-10-29', '1997-04-03', '1958-04-25',\n",
       "       '1944-04-28', '1985-03-25', '1942-07-06',\n",
       "       datetime.datetime(1977, 9, 11, 0, 0), '1968-07-12', '1991-12-21',\n",
       "       '1959-07-28', '1980-10-29', '1940-10-26', '1960-01-21',\n",
       "       '1960-02-14', '1941-02-26', '1976-07-16',\n",
       "       datetime.datetime(1974, 10, 12, 0, 0), '1959-08-01', '1956-12-04',\n",
       "       '1944-03-18', '1956-03-19', '1940-03-11', '1962-08-05',\n",
       "       '1952-04-07', '1966-08-11', '1996-09-06', '1970-09-09',\n",
       "       '1996-06-18', '1947-12-28', '1981-05-05', '1978-03-27',\n",
       "       '1977-07-19', '1980-04-09', '1994-12-23', '1941-02-23',\n",
       "       '1992-10-10', '1938-09-02', '1992-06-24', '1978-04-20',\n",
       "       '1973-08-30', '1954-06-15', datetime.datetime(1977, 10, 7, 0, 0),\n",
       "       '1991-06-01', '1950-11-06', '1957-12-10', '1961-11-03',\n",
       "       '1974-07-03', '1981-01-29', datetime.datetime(1974, 12, 25, 0, 0),\n",
       "       '1965-09-04', '1973-04-29', '1953-08-07', '1951-07-22',\n",
       "       '1975-11-18', '1946-08-22', '1999-11-18', '1972-09-04',\n",
       "       '1983-12-10', '1983-05-18', '1971-10-11', '1975-07-09',\n",
       "       '1950-10-12', '1963-10-16', '1965-09-09', '1966-10-18',\n",
       "       '1999-11-30', '1966-01-30', '1972-10-23', '1965-08-21',\n",
       "       datetime.datetime(1977, 1, 3, 0, 0), '1969-03-06', '1970-03-11',\n",
       "       '1997-10-23', '1956-09-15', '1961-12-10', '1997-03-28',\n",
       "       '1992-04-07', '1945-06-11', '1991-03-06', '1981-04-14',\n",
       "       '1990-04-04', '1966-09-17', '1963-09-01', '1975-09-20',\n",
       "       '1947-06-12', '1939-09-09', '1974-02-21', '2001-04-16',\n",
       "       '1948-03-02', '1998-08-19', '1976-07-19', '1980-01-03',\n",
       "       '1962-05-12', datetime.datetime(1975, 7, 25, 0, 0), '1971-01-10',\n",
       "       '1950-04-15', '1960-07-04', '1965-03-15', '1974-06-17',\n",
       "       '1969-06-04', '1996-03-18', '1973-09-29', '1982-04-25',\n",
       "       '1978-06-21', datetime.datetime(1973, 12, 22, 0, 0), '1987-11-02',\n",
       "       '1950-09-09', '2002-01-04', '1983-02-08', '1960-10-01',\n",
       "       '1999-02-22', '1990-04-06', '1965-12-22', '1938-08-05',\n",
       "       '1947-12-15', '1984-12-13', '1953-04-02', '1989-07-23',\n",
       "       '1993-06-02', '1988-03-05', '1966-01-19', '1972-11-10',\n",
       "       '1996-04-05', '1981-07-28', '1964-07-07', '1955-01-15',\n",
       "       '1992-10-13', '1994-04-12', '1956-08-12', '1957-09-04',\n",
       "       '1982-03-20', '1980-04-23', '1974-01-26', '1973-03-12',\n",
       "       '1954-09-21', '1955-11-09', '1951-08-25', '1969-10-03',\n",
       "       '1966-11-17', '1938-06-08', '1981-07-05', '1949-08-11',\n",
       "       '1982-03-09', '1974-05-21', '1980-09-14', '1951-02-05',\n",
       "       '1947-07-13', '1952-05-30', '1964-11-10', '1940-11-25',\n",
       "       '1985-12-19', '1961-01-15', '1968-11-23', '1978-07-10',\n",
       "       '1991-02-06', '1952-12-09', '2000-04-10', '1960-04-23',\n",
       "       '1940-05-18', '1965-05-04', '1988-12-15', '1988-09-01',\n",
       "       '1978-08-06', '1966-11-05', '1977-01-28', '1973-05-11',\n",
       "       '1971-05-31', '1995-10-10', '2000-04-17', '1963-12-08',\n",
       "       '1992-03-09', '1962-05-05', '1973-08-11', '1967-10-05',\n",
       "       '1962-08-26', '1963-08-25', datetime.datetime(1979, 1, 9, 0, 0),\n",
       "       '1951-09-16', '1994-07-17', '1939-02-19', '1948-01-01',\n",
       "       '1979-09-29', '1958-04-16', '2001-04-17', '1973-04-14',\n",
       "       '1994-09-30', '1995-10-19', '1982-10-29', '1997-03-07',\n",
       "       '1957-01-24', '1959-11-13', '1956-11-07', '1998-08-16',\n",
       "       '1942-09-10', '1980-09-13', datetime.datetime(1978, 12, 27, 0, 0),\n",
       "       '1953-03-27', '1939-11-08', '1958-03-29', '1979-02-10',\n",
       "       '1980-11-26', '1953-08-21', '2000-05-20', '1990-09-15',\n",
       "       '1947-04-06', '1964-12-07', '1958-07-28', '1974-07-28',\n",
       "       '1967-06-01', '1961-08-23', '1953-10-12',\n",
       "       datetime.datetime(1974, 6, 8, 0, 0),\n",
       "       datetime.datetime(1974, 9, 28, 0, 0), '1995-10-20', '1956-03-08',\n",
       "       '1948-08-03', '1994-04-11', '1966-04-07', '1973-10-10',\n",
       "       '1997-03-03', '1964-11-02', '1938-06-09', '1994-03-29',\n",
       "       '1957-03-17', '1980-07-28', '1971-10-18', '1956-10-05',\n",
       "       '1972-07-02', '1999-06-18', '1984-09-01', '2000-03-24',\n",
       "       '1961-10-02', '1941-06-17', '1959-09-18', '1952-08-21',\n",
       "       '1968-05-28', '1970-12-30', '1964-05-19', '1996-02-15',\n",
       "       '1973-05-13', datetime.datetime(1973, 3, 24, 0, 0), '1967-03-02',\n",
       "       '1963-03-04', '2000-05-06', '1957-11-17', '1975-09-16',\n",
       "       '1991-05-21', '1960-12-27', '1961-02-10', '1939-01-15',\n",
       "       '1987-11-16', '1979-05-16', '1984-05-15', '1988-10-16',\n",
       "       '1950-06-15', '1958-05-15', '1990-12-21', '1981-04-06',\n",
       "       '1983-11-06', '1973-05-30', '1959-08-20', '1957-07-03',\n",
       "       datetime.datetime(1978, 3, 17, 0, 0), '1993-08-11', '1951-01-18',\n",
       "       '1976-07-25', '1987-09-09', datetime.datetime(1975, 1, 19, 0, 0),\n",
       "       '1960-08-31', '1963-08-10', '1964-08-23', '1945-10-31',\n",
       "       '1940-03-18', '1946-09-09', datetime.datetime(1974, 4, 30, 0, 0),\n",
       "       '1954-09-06', datetime.datetime(1974, 5, 28, 0, 0), '1992-08-09',\n",
       "       '1941-08-19', '1988-08-22', '1992-03-26', '1994-02-10',\n",
       "       '1983-06-26', '1976-11-25', '1966-03-03', '1977-12-08',\n",
       "       '1962-09-17', '1994-11-28', '1969-04-29', '1964-02-01',\n",
       "       '1998-10-14', '1967-01-03', '1975-07-30', '1969-01-05',\n",
       "       '1980-12-19', '1975-02-25', '1994-06-25', '1960-08-10',\n",
       "       '1986-01-17', '1967-08-23', '1999-03-04', '1998-06-03',\n",
       "       '2001-01-24', '1968-06-12', '1967-05-06', '1938-12-10',\n",
       "       '1977-02-12', '1986-06-27', '1992-04-08', '1951-08-23',\n",
       "       '1956-06-25', '1951-09-17', '1987-09-21', '1943-03-15',\n",
       "       '1945-07-26', '1954-05-14', '1974-05-15', '1973-12-18',\n",
       "       '1959-07-13', '1990-07-02', '1959-10-07', '2001-10-17',\n",
       "       '1954-10-05', '1952-12-17', '1955-10-02'], dtype=object)"
      ]
     },
     "execution_count": 35,
     "metadata": {},
     "output_type": "execute_result"
    }
   ],
   "source": [
    "#reviewing the DOB column\n",
    "NewCustomerList['DOB'].unique()"
   ]
  },
  {
   "cell_type": "markdown",
   "id": "ccea0827",
   "metadata": {},
   "source": [
    "\n",
    "#### the DOB column has some inconistency in the data type, some of them are strings and orders are datetime\n",
    "### it can be fix reformatting the column todatetime\n",
    "#### it can be easier to work with date if we separate each of them in a column as day-month-year, also check the  range of the\n",
    "#### data to see if they're no outliers\n",
    "\n",
    "\n"
   ]
  },
  {
   "cell_type": "code",
   "execution_count": 36,
   "id": "ff475c44",
   "metadata": {},
   "outputs": [
    {
     "data": {
      "text/plain": [
       "array(['General Manager', 'Structural Engineer', 'Senior Cost Accountant',\n",
       "       'Account Representative III', 'Financial Analyst',\n",
       "       'Assistant Media Planner', 'Compensation Analyst',\n",
       "       'Human Resources Assistant II', 'Speech Pathologist',\n",
       "       'Accounting Assistant IV', 'Programmer Analyst I',\n",
       "       'Environmental Specialist', 'Human Resources Manager',\n",
       "       'VP Marketing', 'Clinical Specialist', nan, 'Associate Professor',\n",
       "       'Actuary', 'Internal Auditor', 'Programmer I', 'Quality Engineer',\n",
       "       'Quality Control Specialist', 'Account Executive', 'Engineer II',\n",
       "       'Nurse', 'Librarian', 'Paralegal', 'Assistant Manager',\n",
       "       'Senior Quality Engineer', 'Recruiting Manager', 'Design Engineer',\n",
       "       'Business Systems Development Analyst', 'VP Quality Control',\n",
       "       'Cost Accountant', 'Product Engineer', 'Social Worker',\n",
       "       'Payment Adjustment Coordinator', 'Marketing Assistant',\n",
       "       'Recruiter', 'VP Product Management', 'Media Manager III',\n",
       "       'Developer I', 'Senior Financial Analyst', 'Electrical Engineer',\n",
       "       'Accountant IV', 'Executive Secretary', 'Account Representative I',\n",
       "       'Dental Hygienist', 'GIS Technical Architect',\n",
       "       'Assistant Professor', 'Mechanical Systems Engineer',\n",
       "       'Budget/Accounting Analyst IV', 'Research Nurse',\n",
       "       'Computer Systems Analyst IV', 'Analyst Programmer',\n",
       "       'Desktop Support Technician', 'Editor', 'Biostatistician IV',\n",
       "       'Database Administrator III', 'Engineer III',\n",
       "       'Physical Therapy Assistant', 'Director of Sales', 'Teacher',\n",
       "       'Human Resources Assistant IV', 'Nurse Practicioner',\n",
       "       'Structural Analysis Engineer', 'Marketing Manager',\n",
       "       'Staff Accountant IV', 'VP Sales', 'Accountant III',\n",
       "       'Sales Representative', 'Food Chemist', 'Staff Scientist',\n",
       "       'Geologist IV', 'Information Systems Manager', 'Junior Executive',\n",
       "       'Automation Specialist II', 'Software Consultant',\n",
       "       'Civil Engineer', 'Geological Engineer', 'Graphic Designer',\n",
       "       'Staff Accountant II', 'Community Outreach Specialist',\n",
       "       'Programmer Analyst II', 'Pharmacist', 'Senior Editor',\n",
       "       'Sales Associate', 'Developer II', 'Staff Accountant I',\n",
       "       'Environmental Tech', 'Account Coordinator', 'Health Coach II',\n",
       "       'Programmer Analyst III', 'Geologist III', 'Senior Developer',\n",
       "       'Account Representative II', 'Help Desk Technician',\n",
       "       'Research Assistant IV', 'Research Associate',\n",
       "       'Computer Systems Analyst I', 'Account Representative IV',\n",
       "       'Safety Technician I', 'Analog Circuit Design manager',\n",
       "       'Senior Sales Associate', 'Research Assistant II',\n",
       "       'Chief Design Engineer', 'Legal Assistant',\n",
       "       'Occupational Therapist', 'Statistician I', 'Technical Writer',\n",
       "       'Health Coach IV', 'Media Manager II', 'Professor',\n",
       "       'Safety Technician II', 'Software Test Engineer IV',\n",
       "       'Nuclear Power Engineer', 'Software Engineer II', 'Engineer IV',\n",
       "       'Database Administrator II', 'Chemical Engineer',\n",
       "       'Office Assistant II', 'Database Administrator I',\n",
       "       'Research Assistant I', 'Financial Advisor',\n",
       "       'Systems Administrator I', 'Systems Administrator IV', 'Operator',\n",
       "       'Office Assistant I', 'Software Engineer I', 'Programmer III',\n",
       "       'Media Manager I', 'Data Coordiator', 'Web Developer IV',\n",
       "       'Registered Nurse', 'Media Manager IV', 'Programmer II',\n",
       "       'Computer Systems Analyst II', 'Web Designer I',\n",
       "       'Human Resources Assistant I', 'Help Desk Operator',\n",
       "       'Systems Administrator III', 'Software Engineer III',\n",
       "       'Developer IV', 'Tax Accountant', 'Automation Specialist IV',\n",
       "       'VP Accounting', 'Accountant II', 'Administrative Assistant II',\n",
       "       'Programmer IV', 'Web Designer IV', 'Administrative Officer',\n",
       "       'Office Assistant IV', 'Accounting Assistant III',\n",
       "       'Accounting Assistant I', 'Research Assistant III',\n",
       "       'Web Developer II', 'Statistician III', 'Programmer Analyst IV',\n",
       "       'Accountant I', 'Project Manager', 'Budget/Accounting Analyst II',\n",
       "       'Automation Specialist III', 'Administrative Assistant I',\n",
       "       'Engineer I', 'Health Coach III', 'Statistician II',\n",
       "       'Developer III', 'Accounting Assistant II',\n",
       "       'Database Administrator IV', 'Budget/Accounting Analyst III',\n",
       "       'Software Test Engineer I', 'Health Coach I',\n",
       "       'Safety Technician IV', 'Computer Systems Analyst III',\n",
       "       'Budget/Accounting Analyst I', 'Staff Accountant III',\n",
       "       'Human Resources Assistant III', 'Statistician IV',\n",
       "       'Automation Specialist I', 'Systems Administrator II',\n",
       "       'Software Test Engineer II', 'Software Test Engineer III',\n",
       "       'Geologist I', 'Web Designer II', 'Web Developer I'], dtype=object)"
      ]
     },
     "execution_count": 36,
     "metadata": {},
     "output_type": "execute_result"
    }
   ],
   "source": [
    "#reviewing jobtile column\n",
    "NewCustomerList['job_title'].unique()"
   ]
  },
  {
   "cell_type": "markdown",
   "id": "96cd8bec",
   "metadata": {},
   "source": [
    "### if useful maybe it'll be good to separate the jobtitle to the level each in one column and like that we can group by field"
   ]
  },
  {
   "cell_type": "code",
   "execution_count": 37,
   "id": "a802c474",
   "metadata": {},
   "outputs": [
    {
     "data": {
      "text/plain": [
       "array(['Manufacturing', 'Property', 'Financial Services', 'Entertainment',\n",
       "       'Retail', 'IT', 'Telecommunications', 'Health', nan, 'Argiculture'],\n",
       "      dtype=object)"
      ]
     },
     "execution_count": 37,
     "metadata": {},
     "output_type": "execute_result"
    }
   ],
   "source": [
    "#reviewing job industry category column\n",
    "NewCustomerList['job_industry_category'].unique()"
   ]
  },
  {
   "cell_type": "code",
   "execution_count": 38,
   "id": "1ffb6b53",
   "metadata": {},
   "outputs": [
    {
     "data": {
      "text/plain": [
       "array(['Yes', 'No'], dtype=object)"
      ]
     },
     "execution_count": 38,
     "metadata": {},
     "output_type": "execute_result"
    }
   ],
   "source": [
    "NewCustomerList['owns_car'].unique()"
   ]
  },
  {
   "cell_type": "code",
   "execution_count": 39,
   "id": "a63fcfdd",
   "metadata": {},
   "outputs": [
    {
     "data": {
      "text/plain": [
       "array(['N'], dtype=object)"
      ]
     },
     "execution_count": 39,
     "metadata": {},
     "output_type": "execute_result"
    }
   ],
   "source": [
    "NewCustomerList['deceased_indicator'].unique()"
   ]
  },
  {
   "cell_type": "code",
   "execution_count": 40,
   "id": "749e3474",
   "metadata": {},
   "outputs": [
    {
     "data": {
      "text/plain": [
       "0       45 Shopko Center\n",
       "1      14 Mccormick Park\n",
       "2    5 Colorado Crossing\n",
       "3     207 Annamark Plaza\n",
       "4      115 Montana Place\n",
       "Name: address, dtype: object"
      ]
     },
     "execution_count": 40,
     "metadata": {},
     "output_type": "execute_result"
    }
   ],
   "source": [
    "NewCustomerList['address'].head()"
   ]
  },
  {
   "cell_type": "code",
   "execution_count": 41,
   "id": "ca450caa",
   "metadata": {},
   "outputs": [
    {
     "data": {
      "text/plain": [
       "array(['Australia'], dtype=object)"
      ]
     },
     "execution_count": 41,
     "metadata": {},
     "output_type": "execute_result"
    }
   ],
   "source": [
    "NewCustomerList['country'].unique()"
   ]
  },
  {
   "cell_type": "code",
   "execution_count": 42,
   "id": "c29a55ea",
   "metadata": {},
   "outputs": [
    {
     "data": {
      "text/plain": [
       "array(['QLD', 'NSW', 'VIC'], dtype=object)"
      ]
     },
     "execution_count": 42,
     "metadata": {},
     "output_type": "execute_result"
    }
   ],
   "source": [
    "NewCustomerList['state'].unique()"
   ]
  },
  {
   "cell_type": "code",
   "execution_count": 43,
   "id": "0b57e057",
   "metadata": {},
   "outputs": [
    {
     "data": {
      "text/plain": [
       "array(['6', '11', '5', '1', '9', '7', '10', '8', '4', '2', 11, '12', '3',\n",
       "       8, 6, 7], dtype=object)"
      ]
     },
     "execution_count": 43,
     "metadata": {},
     "output_type": "execute_result"
    }
   ],
   "source": [
    "NewCustomerList['property_valuation'].unique()"
   ]
  },
  {
   "cell_type": "code",
   "execution_count": 44,
   "id": "ea1edc7e",
   "metadata": {},
   "outputs": [
    {
     "data": {
      "text/plain": [
       "array(['Mass Customer', 'Affluent Customer', 'High Net Worth'],\n",
       "      dtype=object)"
      ]
     },
     "execution_count": 44,
     "metadata": {},
     "output_type": "execute_result"
    }
   ],
   "source": [
    "NewCustomerList['wealth_segment'].unique()"
   ]
  },
  {
   "cell_type": "code",
   "execution_count": 45,
   "id": "80b5bb49",
   "metadata": {},
   "outputs": [
    {
     "data": {
      "text/plain": [
       "array([1, 4, 6, 8, 10, 12, 13, 14, 16, 17, 19, 21, 23, 25, 26, 30, 32, 36,\n",
       "       38, 40, 42, 44, 46, 50, 52, 54, 57, 62, 65, 68, 72, 77, 78, 84, 85,\n",
       "       88, 89, 96, 99, 102, 104, 111, 114, 120, 125, 127, 132, 133, 142,\n",
       "       144, 146, 152, 153, 154, 155, 157, 158, 163, 166, 173, 174, 177,\n",
       "       181, 188, 190, 191, 195, 201, 202, 206, 212, 215, 218, 219, 223,\n",
       "       226, 230, 231, 233, 237, 240, 241, 244, 248, 249, 250, 252, 259,\n",
       "       271, 274, 278, 282, 284, 285, 287, 289, 291, 295, 297, 302, 304,\n",
       "       310, 312, 320, 322, 324, 326, 329, 334, 338, 341, 345, 349, 355,\n",
       "       356, 358, 361, 366, 370, 371, 372, 375, 378, 382, 386, 395, 396,\n",
       "       401, 405, 408, 409, 414, 415, 418, 419, 420, 427, 429, 430, 433,\n",
       "       436, 441, 444, 450, 455, 464, 466, 468, 471, 473, 475, 478, 483,\n",
       "       485, 486, 492, 494, 495, 498, 500, 502, 504, 507, 513, 515, 520,\n",
       "       524, 526, 529, 530, 536, 544, 546, 549, 551, 552, 555, 561, 562,\n",
       "       563, 568, 574, 575, 582, 583, 587, 590, 591, 594, 595, 599, 602,\n",
       "       603, 604, 606, 609, 612, 615, 617, 620, 625, 626, 632, 634, 637,\n",
       "       641, 642, 643, 644, 646, 648, 651, 653, 655, 657, 658, 662, 666,\n",
       "       668, 672, 674, 676, 682, 684, 688, 691, 698, 700, 708, 715, 719,\n",
       "       722, 724, 725, 731, 733, 739, 741, 744, 747, 748, 750, 751, 754,\n",
       "       755, 760, 773, 774, 778, 780, 782, 785, 786, 788, 791, 793, 794,\n",
       "       795, 797, 801, 804, 808, 810, 817, 820, 828, 830, 832, 838, 840,\n",
       "       842, 843, 845, 851, 854, 856, 859, 862, 865, 870, 871, 877, 879,\n",
       "       882, 883, 888, 893, 896, 898, 899, 903, 904, 913, 920, 921, 924,\n",
       "       926, 928, 930, 936, 937, 939, 944, 947, 948, 951, 954, 956, 960,\n",
       "       963, 967, 972, 974, 977, 979, 983, 985, 987, 988, 993, 994, 996,\n",
       "       997, 1000], dtype=object)"
      ]
     },
     "execution_count": 45,
     "metadata": {},
     "output_type": "execute_result"
    }
   ],
   "source": [
    "NewCustomerList['Rank'].unique()"
   ]
  },
  {
   "cell_type": "markdown",
   "id": "525054b6",
   "metadata": {},
   "source": [
    "### This rank column look like just another Index, maybe we'll drop it after verification"
   ]
  },
  {
   "cell_type": "code",
   "execution_count": 46,
   "id": "7102787c",
   "metadata": {},
   "outputs": [
    {
     "data": {
      "text/plain": [
       "0     1.71875\n",
       "1     1.71875\n",
       "2     1.71875\n",
       "3    1.703125\n",
       "4    1.703125\n",
       "Name: Value, dtype: object"
      ]
     },
     "execution_count": 46,
     "metadata": {},
     "output_type": "execute_result"
    }
   ],
   "source": [
    "NewCustomerList['Value'].head()"
   ]
  },
  {
   "cell_type": "markdown",
   "id": "3d2bbccf",
   "metadata": {},
   "source": [
    "#### It is not clear what the value represent, a description  of all the data will be very useful to us"
   ]
  },
  {
   "cell_type": "code",
   "execution_count": null,
   "id": "6e8b786b",
   "metadata": {},
   "outputs": [],
   "source": []
  },
  {
   "cell_type": "markdown",
   "id": "9506ff8a",
   "metadata": {},
   "source": [
    "# Customer demographic table"
   ]
  },
  {
   "cell_type": "code",
   "execution_count": 47,
   "id": "955c4d69",
   "metadata": {},
   "outputs": [],
   "source": [
    "CustomerDemographic = pd.read_excel(xls, 'CustomerDemographic')"
   ]
  },
  {
   "cell_type": "code",
   "execution_count": 48,
   "id": "04dfafce",
   "metadata": {},
   "outputs": [
    {
     "data": {
      "text/html": [
       "<div>\n",
       "<style scoped>\n",
       "    .dataframe tbody tr th:only-of-type {\n",
       "        vertical-align: middle;\n",
       "    }\n",
       "\n",
       "    .dataframe tbody tr th {\n",
       "        vertical-align: top;\n",
       "    }\n",
       "\n",
       "    .dataframe thead th {\n",
       "        text-align: right;\n",
       "    }\n",
       "</style>\n",
       "<table border=\"1\" class=\"dataframe\">\n",
       "  <thead>\n",
       "    <tr style=\"text-align: right;\">\n",
       "      <th></th>\n",
       "      <th>Note: The data and information in this document is reflective of a hypothetical situation and client. This document is to be used for KPMG Virtual Internship purposes only.</th>\n",
       "      <th>Unnamed: 1</th>\n",
       "      <th>Unnamed: 2</th>\n",
       "      <th>Unnamed: 3</th>\n",
       "      <th>Unnamed: 4</th>\n",
       "      <th>Unnamed: 5</th>\n",
       "      <th>Unnamed: 6</th>\n",
       "      <th>Unnamed: 7</th>\n",
       "      <th>Unnamed: 8</th>\n",
       "      <th>Unnamed: 9</th>\n",
       "      <th>Unnamed: 10</th>\n",
       "      <th>Unnamed: 11</th>\n",
       "      <th>Unnamed: 12</th>\n",
       "    </tr>\n",
       "  </thead>\n",
       "  <tbody>\n",
       "    <tr>\n",
       "      <th>0</th>\n",
       "      <td>customer_id</td>\n",
       "      <td>first_name</td>\n",
       "      <td>last_name</td>\n",
       "      <td>gender</td>\n",
       "      <td>past_3_years_bike_related_purchases</td>\n",
       "      <td>DOB</td>\n",
       "      <td>job_title</td>\n",
       "      <td>job_industry_category</td>\n",
       "      <td>wealth_segment</td>\n",
       "      <td>deceased_indicator</td>\n",
       "      <td>default</td>\n",
       "      <td>owns_car</td>\n",
       "      <td>tenure</td>\n",
       "    </tr>\n",
       "    <tr>\n",
       "      <th>1</th>\n",
       "      <td>1</td>\n",
       "      <td>Laraine</td>\n",
       "      <td>Medendorp</td>\n",
       "      <td>F</td>\n",
       "      <td>93</td>\n",
       "      <td>1953-10-12 00:00:00</td>\n",
       "      <td>Executive Secretary</td>\n",
       "      <td>Health</td>\n",
       "      <td>Mass Customer</td>\n",
       "      <td>N</td>\n",
       "      <td>\"'</td>\n",
       "      <td>Yes</td>\n",
       "      <td>11</td>\n",
       "    </tr>\n",
       "    <tr>\n",
       "      <th>2</th>\n",
       "      <td>2</td>\n",
       "      <td>Eli</td>\n",
       "      <td>Bockman</td>\n",
       "      <td>Male</td>\n",
       "      <td>81</td>\n",
       "      <td>1980-12-16 00:00:00</td>\n",
       "      <td>Administrative Officer</td>\n",
       "      <td>Financial Services</td>\n",
       "      <td>Mass Customer</td>\n",
       "      <td>N</td>\n",
       "      <td>&lt;script&gt;alert('hi')&lt;/script&gt;</td>\n",
       "      <td>Yes</td>\n",
       "      <td>16</td>\n",
       "    </tr>\n",
       "    <tr>\n",
       "      <th>3</th>\n",
       "      <td>3</td>\n",
       "      <td>Arlin</td>\n",
       "      <td>Dearle</td>\n",
       "      <td>Male</td>\n",
       "      <td>61</td>\n",
       "      <td>1954-01-20 00:00:00</td>\n",
       "      <td>Recruiting Manager</td>\n",
       "      <td>Property</td>\n",
       "      <td>Mass Customer</td>\n",
       "      <td>N</td>\n",
       "      <td>2018-02-01 00:00:00</td>\n",
       "      <td>Yes</td>\n",
       "      <td>15</td>\n",
       "    </tr>\n",
       "    <tr>\n",
       "      <th>4</th>\n",
       "      <td>4</td>\n",
       "      <td>Talbot</td>\n",
       "      <td>NaN</td>\n",
       "      <td>Male</td>\n",
       "      <td>33</td>\n",
       "      <td>1961-10-03 00:00:00</td>\n",
       "      <td>NaN</td>\n",
       "      <td>IT</td>\n",
       "      <td>Mass Customer</td>\n",
       "      <td>N</td>\n",
       "      <td>() { _; } &gt;_[$($())] { touch /tmp/blns.shellsh...</td>\n",
       "      <td>No</td>\n",
       "      <td>7</td>\n",
       "    </tr>\n",
       "  </tbody>\n",
       "</table>\n",
       "</div>"
      ],
      "text/plain": [
       "  Note: The data and information in this document is reflective of a hypothetical situation and client. This document is to be used for KPMG Virtual Internship purposes only.    \n",
       "0                                        customer_id                                                                                                                             \\\n",
       "1                                                  1                                                                                                                              \n",
       "2                                                  2                                                                                                                              \n",
       "3                                                  3                                                                                                                              \n",
       "4                                                  4                                                                                                                              \n",
       "\n",
       "   Unnamed: 1 Unnamed: 2 Unnamed: 3                           Unnamed: 4   \n",
       "0  first_name  last_name     gender  past_3_years_bike_related_purchases  \\\n",
       "1     Laraine  Medendorp          F                                   93   \n",
       "2         Eli    Bockman       Male                                   81   \n",
       "3       Arlin     Dearle       Male                                   61   \n",
       "4      Talbot        NaN       Male                                   33   \n",
       "\n",
       "            Unnamed: 5              Unnamed: 6             Unnamed: 7   \n",
       "0                  DOB               job_title  job_industry_category  \\\n",
       "1  1953-10-12 00:00:00     Executive Secretary                 Health   \n",
       "2  1980-12-16 00:00:00  Administrative Officer     Financial Services   \n",
       "3  1954-01-20 00:00:00      Recruiting Manager               Property   \n",
       "4  1961-10-03 00:00:00                     NaN                     IT   \n",
       "\n",
       "       Unnamed: 8          Unnamed: 9   \n",
       "0  wealth_segment  deceased_indicator  \\\n",
       "1   Mass Customer                   N   \n",
       "2   Mass Customer                   N   \n",
       "3   Mass Customer                   N   \n",
       "4   Mass Customer                   N   \n",
       "\n",
       "                                         Unnamed: 10 Unnamed: 11 Unnamed: 12  \n",
       "0                                            default    owns_car      tenure  \n",
       "1                                                 \"'         Yes          11  \n",
       "2                       <script>alert('hi')</script>         Yes          16  \n",
       "3                                2018-02-01 00:00:00         Yes          15  \n",
       "4  () { _; } >_[$($())] { touch /tmp/blns.shellsh...          No           7  "
      ]
     },
     "execution_count": 48,
     "metadata": {},
     "output_type": "execute_result"
    }
   ],
   "source": [
    "CustomerDemographic.head()"
   ]
  },
  {
   "cell_type": "code",
   "execution_count": 49,
   "id": "549e927c",
   "metadata": {},
   "outputs": [],
   "source": [
    "CustomerDemographic.columns=CustomerDemographic.iloc[0]"
   ]
  },
  {
   "cell_type": "code",
   "execution_count": 50,
   "id": "af1d5a52",
   "metadata": {},
   "outputs": [],
   "source": [
    "CustomerDemographic.drop(0,axis=0, inplace= True)"
   ]
  },
  {
   "cell_type": "code",
   "execution_count": 51,
   "id": "d515b10a",
   "metadata": {},
   "outputs": [
    {
     "data": {
      "text/html": [
       "<div>\n",
       "<style scoped>\n",
       "    .dataframe tbody tr th:only-of-type {\n",
       "        vertical-align: middle;\n",
       "    }\n",
       "\n",
       "    .dataframe tbody tr th {\n",
       "        vertical-align: top;\n",
       "    }\n",
       "\n",
       "    .dataframe thead th {\n",
       "        text-align: right;\n",
       "    }\n",
       "</style>\n",
       "<table border=\"1\" class=\"dataframe\">\n",
       "  <thead>\n",
       "    <tr style=\"text-align: right;\">\n",
       "      <th></th>\n",
       "      <th>customer_id</th>\n",
       "      <th>first_name</th>\n",
       "      <th>last_name</th>\n",
       "      <th>gender</th>\n",
       "      <th>past_3_years_bike_related_purchases</th>\n",
       "      <th>DOB</th>\n",
       "      <th>job_title</th>\n",
       "      <th>job_industry_category</th>\n",
       "      <th>wealth_segment</th>\n",
       "      <th>deceased_indicator</th>\n",
       "      <th>default</th>\n",
       "      <th>owns_car</th>\n",
       "      <th>tenure</th>\n",
       "    </tr>\n",
       "  </thead>\n",
       "  <tbody>\n",
       "    <tr>\n",
       "      <th>1</th>\n",
       "      <td>1</td>\n",
       "      <td>Laraine</td>\n",
       "      <td>Medendorp</td>\n",
       "      <td>F</td>\n",
       "      <td>93</td>\n",
       "      <td>1953-10-12 00:00:00</td>\n",
       "      <td>Executive Secretary</td>\n",
       "      <td>Health</td>\n",
       "      <td>Mass Customer</td>\n",
       "      <td>N</td>\n",
       "      <td>\"'</td>\n",
       "      <td>Yes</td>\n",
       "      <td>11</td>\n",
       "    </tr>\n",
       "    <tr>\n",
       "      <th>2</th>\n",
       "      <td>2</td>\n",
       "      <td>Eli</td>\n",
       "      <td>Bockman</td>\n",
       "      <td>Male</td>\n",
       "      <td>81</td>\n",
       "      <td>1980-12-16 00:00:00</td>\n",
       "      <td>Administrative Officer</td>\n",
       "      <td>Financial Services</td>\n",
       "      <td>Mass Customer</td>\n",
       "      <td>N</td>\n",
       "      <td>&lt;script&gt;alert('hi')&lt;/script&gt;</td>\n",
       "      <td>Yes</td>\n",
       "      <td>16</td>\n",
       "    </tr>\n",
       "    <tr>\n",
       "      <th>3</th>\n",
       "      <td>3</td>\n",
       "      <td>Arlin</td>\n",
       "      <td>Dearle</td>\n",
       "      <td>Male</td>\n",
       "      <td>61</td>\n",
       "      <td>1954-01-20 00:00:00</td>\n",
       "      <td>Recruiting Manager</td>\n",
       "      <td>Property</td>\n",
       "      <td>Mass Customer</td>\n",
       "      <td>N</td>\n",
       "      <td>2018-02-01 00:00:00</td>\n",
       "      <td>Yes</td>\n",
       "      <td>15</td>\n",
       "    </tr>\n",
       "    <tr>\n",
       "      <th>4</th>\n",
       "      <td>4</td>\n",
       "      <td>Talbot</td>\n",
       "      <td>NaN</td>\n",
       "      <td>Male</td>\n",
       "      <td>33</td>\n",
       "      <td>1961-10-03 00:00:00</td>\n",
       "      <td>NaN</td>\n",
       "      <td>IT</td>\n",
       "      <td>Mass Customer</td>\n",
       "      <td>N</td>\n",
       "      <td>() { _; } &gt;_[$($())] { touch /tmp/blns.shellsh...</td>\n",
       "      <td>No</td>\n",
       "      <td>7</td>\n",
       "    </tr>\n",
       "    <tr>\n",
       "      <th>5</th>\n",
       "      <td>5</td>\n",
       "      <td>Sheila-kathryn</td>\n",
       "      <td>Calton</td>\n",
       "      <td>Female</td>\n",
       "      <td>56</td>\n",
       "      <td>1977-05-13 00:00:00</td>\n",
       "      <td>Senior Editor</td>\n",
       "      <td>NaN</td>\n",
       "      <td>Affluent Customer</td>\n",
       "      <td>N</td>\n",
       "      <td>NIL</td>\n",
       "      <td>Yes</td>\n",
       "      <td>8</td>\n",
       "    </tr>\n",
       "  </tbody>\n",
       "</table>\n",
       "</div>"
      ],
      "text/plain": [
       "0 customer_id      first_name  last_name  gender   \n",
       "1           1         Laraine  Medendorp       F  \\\n",
       "2           2             Eli    Bockman    Male   \n",
       "3           3           Arlin     Dearle    Male   \n",
       "4           4          Talbot        NaN    Male   \n",
       "5           5  Sheila-kathryn     Calton  Female   \n",
       "\n",
       "0 past_3_years_bike_related_purchases                  DOB   \n",
       "1                                  93  1953-10-12 00:00:00  \\\n",
       "2                                  81  1980-12-16 00:00:00   \n",
       "3                                  61  1954-01-20 00:00:00   \n",
       "4                                  33  1961-10-03 00:00:00   \n",
       "5                                  56  1977-05-13 00:00:00   \n",
       "\n",
       "0               job_title job_industry_category     wealth_segment   \n",
       "1     Executive Secretary                Health      Mass Customer  \\\n",
       "2  Administrative Officer    Financial Services      Mass Customer   \n",
       "3      Recruiting Manager              Property      Mass Customer   \n",
       "4                     NaN                    IT      Mass Customer   \n",
       "5           Senior Editor                   NaN  Affluent Customer   \n",
       "\n",
       "0 deceased_indicator                                            default   \n",
       "1                  N                                                 \"'  \\\n",
       "2                  N                       <script>alert('hi')</script>   \n",
       "3                  N                                2018-02-01 00:00:00   \n",
       "4                  N  () { _; } >_[$($())] { touch /tmp/blns.shellsh...   \n",
       "5                  N                                                NIL   \n",
       "\n",
       "0 owns_car tenure  \n",
       "1      Yes     11  \n",
       "2      Yes     16  \n",
       "3      Yes     15  \n",
       "4       No      7  \n",
       "5      Yes      8  "
      ]
     },
     "execution_count": 51,
     "metadata": {},
     "output_type": "execute_result"
    }
   ],
   "source": [
    "CustomerDemographic.head()"
   ]
  },
  {
   "cell_type": "code",
   "execution_count": 52,
   "id": "2438e3e6",
   "metadata": {},
   "outputs": [],
   "source": [
    "CustomerDemographic.reset_index(inplace=True)"
   ]
  },
  {
   "cell_type": "code",
   "execution_count": null,
   "id": "f8f81826",
   "metadata": {},
   "outputs": [],
   "source": []
  },
  {
   "cell_type": "code",
   "execution_count": 53,
   "id": "acecc75d",
   "metadata": {
    "scrolled": false
   },
   "outputs": [
    {
     "data": {
      "text/html": [
       "<div>\n",
       "<style scoped>\n",
       "    .dataframe tbody tr th:only-of-type {\n",
       "        vertical-align: middle;\n",
       "    }\n",
       "\n",
       "    .dataframe tbody tr th {\n",
       "        vertical-align: top;\n",
       "    }\n",
       "\n",
       "    .dataframe thead th {\n",
       "        text-align: right;\n",
       "    }\n",
       "</style>\n",
       "<table border=\"1\" class=\"dataframe\">\n",
       "  <thead>\n",
       "    <tr style=\"text-align: right;\">\n",
       "      <th></th>\n",
       "      <th>index</th>\n",
       "      <th>customer_id</th>\n",
       "      <th>first_name</th>\n",
       "      <th>last_name</th>\n",
       "      <th>gender</th>\n",
       "      <th>past_3_years_bike_related_purchases</th>\n",
       "      <th>DOB</th>\n",
       "      <th>job_title</th>\n",
       "      <th>job_industry_category</th>\n",
       "      <th>wealth_segment</th>\n",
       "      <th>deceased_indicator</th>\n",
       "      <th>default</th>\n",
       "      <th>owns_car</th>\n",
       "      <th>tenure</th>\n",
       "    </tr>\n",
       "  </thead>\n",
       "  <tbody>\n",
       "    <tr>\n",
       "      <th>0</th>\n",
       "      <td>1</td>\n",
       "      <td>1</td>\n",
       "      <td>Laraine</td>\n",
       "      <td>Medendorp</td>\n",
       "      <td>F</td>\n",
       "      <td>93</td>\n",
       "      <td>1953-10-12 00:00:00</td>\n",
       "      <td>Executive Secretary</td>\n",
       "      <td>Health</td>\n",
       "      <td>Mass Customer</td>\n",
       "      <td>N</td>\n",
       "      <td>\"'</td>\n",
       "      <td>Yes</td>\n",
       "      <td>11</td>\n",
       "    </tr>\n",
       "    <tr>\n",
       "      <th>1</th>\n",
       "      <td>2</td>\n",
       "      <td>2</td>\n",
       "      <td>Eli</td>\n",
       "      <td>Bockman</td>\n",
       "      <td>Male</td>\n",
       "      <td>81</td>\n",
       "      <td>1980-12-16 00:00:00</td>\n",
       "      <td>Administrative Officer</td>\n",
       "      <td>Financial Services</td>\n",
       "      <td>Mass Customer</td>\n",
       "      <td>N</td>\n",
       "      <td>&lt;script&gt;alert('hi')&lt;/script&gt;</td>\n",
       "      <td>Yes</td>\n",
       "      <td>16</td>\n",
       "    </tr>\n",
       "    <tr>\n",
       "      <th>2</th>\n",
       "      <td>3</td>\n",
       "      <td>3</td>\n",
       "      <td>Arlin</td>\n",
       "      <td>Dearle</td>\n",
       "      <td>Male</td>\n",
       "      <td>61</td>\n",
       "      <td>1954-01-20 00:00:00</td>\n",
       "      <td>Recruiting Manager</td>\n",
       "      <td>Property</td>\n",
       "      <td>Mass Customer</td>\n",
       "      <td>N</td>\n",
       "      <td>2018-02-01 00:00:00</td>\n",
       "      <td>Yes</td>\n",
       "      <td>15</td>\n",
       "    </tr>\n",
       "  </tbody>\n",
       "</table>\n",
       "</div>"
      ],
      "text/plain": [
       "0  index customer_id first_name  last_name gender   \n",
       "0      1           1    Laraine  Medendorp      F  \\\n",
       "1      2           2        Eli    Bockman   Male   \n",
       "2      3           3      Arlin     Dearle   Male   \n",
       "\n",
       "0 past_3_years_bike_related_purchases                  DOB   \n",
       "0                                  93  1953-10-12 00:00:00  \\\n",
       "1                                  81  1980-12-16 00:00:00   \n",
       "2                                  61  1954-01-20 00:00:00   \n",
       "\n",
       "0               job_title job_industry_category wealth_segment   \n",
       "0     Executive Secretary                Health  Mass Customer  \\\n",
       "1  Administrative Officer    Financial Services  Mass Customer   \n",
       "2      Recruiting Manager              Property  Mass Customer   \n",
       "\n",
       "0 deceased_indicator                       default owns_car tenure  \n",
       "0                  N                            \"'      Yes     11  \n",
       "1                  N  <script>alert('hi')</script>      Yes     16  \n",
       "2                  N           2018-02-01 00:00:00      Yes     15  "
      ]
     },
     "execution_count": 53,
     "metadata": {},
     "output_type": "execute_result"
    }
   ],
   "source": [
    "CustomerDemographic.head(3)"
   ]
  },
  {
   "cell_type": "code",
   "execution_count": 54,
   "id": "89e493bf",
   "metadata": {},
   "outputs": [],
   "source": [
    "CustomerDemographic.drop('index', axis=1, inplace= True)"
   ]
  },
  {
   "cell_type": "code",
   "execution_count": 55,
   "id": "849a1d1e",
   "metadata": {},
   "outputs": [
    {
     "data": {
      "text/html": [
       "<div>\n",
       "<style scoped>\n",
       "    .dataframe tbody tr th:only-of-type {\n",
       "        vertical-align: middle;\n",
       "    }\n",
       "\n",
       "    .dataframe tbody tr th {\n",
       "        vertical-align: top;\n",
       "    }\n",
       "\n",
       "    .dataframe thead th {\n",
       "        text-align: right;\n",
       "    }\n",
       "</style>\n",
       "<table border=\"1\" class=\"dataframe\">\n",
       "  <thead>\n",
       "    <tr style=\"text-align: right;\">\n",
       "      <th></th>\n",
       "      <th>customer_id</th>\n",
       "      <th>first_name</th>\n",
       "      <th>last_name</th>\n",
       "      <th>gender</th>\n",
       "      <th>past_3_years_bike_related_purchases</th>\n",
       "      <th>DOB</th>\n",
       "      <th>job_title</th>\n",
       "      <th>job_industry_category</th>\n",
       "      <th>wealth_segment</th>\n",
       "      <th>deceased_indicator</th>\n",
       "      <th>default</th>\n",
       "      <th>owns_car</th>\n",
       "      <th>tenure</th>\n",
       "    </tr>\n",
       "  </thead>\n",
       "  <tbody>\n",
       "    <tr>\n",
       "      <th>0</th>\n",
       "      <td>1</td>\n",
       "      <td>Laraine</td>\n",
       "      <td>Medendorp</td>\n",
       "      <td>F</td>\n",
       "      <td>93</td>\n",
       "      <td>1953-10-12 00:00:00</td>\n",
       "      <td>Executive Secretary</td>\n",
       "      <td>Health</td>\n",
       "      <td>Mass Customer</td>\n",
       "      <td>N</td>\n",
       "      <td>\"'</td>\n",
       "      <td>Yes</td>\n",
       "      <td>11</td>\n",
       "    </tr>\n",
       "    <tr>\n",
       "      <th>1</th>\n",
       "      <td>2</td>\n",
       "      <td>Eli</td>\n",
       "      <td>Bockman</td>\n",
       "      <td>Male</td>\n",
       "      <td>81</td>\n",
       "      <td>1980-12-16 00:00:00</td>\n",
       "      <td>Administrative Officer</td>\n",
       "      <td>Financial Services</td>\n",
       "      <td>Mass Customer</td>\n",
       "      <td>N</td>\n",
       "      <td>&lt;script&gt;alert('hi')&lt;/script&gt;</td>\n",
       "      <td>Yes</td>\n",
       "      <td>16</td>\n",
       "    </tr>\n",
       "    <tr>\n",
       "      <th>2</th>\n",
       "      <td>3</td>\n",
       "      <td>Arlin</td>\n",
       "      <td>Dearle</td>\n",
       "      <td>Male</td>\n",
       "      <td>61</td>\n",
       "      <td>1954-01-20 00:00:00</td>\n",
       "      <td>Recruiting Manager</td>\n",
       "      <td>Property</td>\n",
       "      <td>Mass Customer</td>\n",
       "      <td>N</td>\n",
       "      <td>2018-02-01 00:00:00</td>\n",
       "      <td>Yes</td>\n",
       "      <td>15</td>\n",
       "    </tr>\n",
       "  </tbody>\n",
       "</table>\n",
       "</div>"
      ],
      "text/plain": [
       "0 customer_id first_name  last_name gender   \n",
       "0           1    Laraine  Medendorp      F  \\\n",
       "1           2        Eli    Bockman   Male   \n",
       "2           3      Arlin     Dearle   Male   \n",
       "\n",
       "0 past_3_years_bike_related_purchases                  DOB   \n",
       "0                                  93  1953-10-12 00:00:00  \\\n",
       "1                                  81  1980-12-16 00:00:00   \n",
       "2                                  61  1954-01-20 00:00:00   \n",
       "\n",
       "0               job_title job_industry_category wealth_segment   \n",
       "0     Executive Secretary                Health  Mass Customer  \\\n",
       "1  Administrative Officer    Financial Services  Mass Customer   \n",
       "2      Recruiting Manager              Property  Mass Customer   \n",
       "\n",
       "0 deceased_indicator                       default owns_car tenure  \n",
       "0                  N                            \"'      Yes     11  \n",
       "1                  N  <script>alert('hi')</script>      Yes     16  \n",
       "2                  N           2018-02-01 00:00:00      Yes     15  "
      ]
     },
     "execution_count": 55,
     "metadata": {},
     "output_type": "execute_result"
    }
   ],
   "source": [
    "CustomerDemographic.head(3)"
   ]
  },
  {
   "cell_type": "code",
   "execution_count": null,
   "id": "c251c01b",
   "metadata": {},
   "outputs": [],
   "source": []
  },
  {
   "cell_type": "markdown",
   "id": "ec8216bb",
   "metadata": {},
   "source": [
    "### first quick glance: we'll need a better understanding of the default column, what is it, or if we can just delete it"
   ]
  },
  {
   "cell_type": "code",
   "execution_count": 56,
   "id": "19ab5286",
   "metadata": {},
   "outputs": [],
   "source": [
    "nulls_CustomerDemografic=CustomerDemographic.isnull()"
   ]
  },
  {
   "cell_type": "code",
   "execution_count": 57,
   "id": "62cd5ffd",
   "metadata": {},
   "outputs": [
    {
     "data": {
      "text/plain": [
       "Text(0.5, 1.0, 'CustomerDemografic Missing values')"
      ]
     },
     "execution_count": 57,
     "metadata": {},
     "output_type": "execute_result"
    },
    {
     "data": {
      "image/png": "[encoded data removed]",
      "text/plain": [
       "<Figure size 640x480 with 1 Axes>"
      ]
     },
     "metadata": {},
     "output_type": "display_data"
    }
   ],
   "source": [
    "sns.heatmap(nulls_CustomerDemografic, yticklabels = False,cbar= False)\n",
    "plt.title('CustomerDemografic Missing values')"
   ]
  },
  {
   "cell_type": "code",
   "execution_count": 58,
   "id": "3d445696",
   "metadata": {},
   "outputs": [
    {
     "data": {
      "text/plain": [
       "0\n",
       "customer_id                              0\n",
       "first_name                               0\n",
       "last_name                              125\n",
       "gender                                   0\n",
       "past_3_years_bike_related_purchases      0\n",
       "DOB                                     87\n",
       "job_title                              506\n",
       "job_industry_category                  656\n",
       "wealth_segment                           0\n",
       "deceased_indicator                       0\n",
       "default                                302\n",
       "owns_car                                 0\n",
       "tenure                                  87\n",
       "dtype: int64"
      ]
     },
     "execution_count": 58,
     "metadata": {},
     "output_type": "execute_result"
    }
   ],
   "source": [
    "nulls_CustomerDemografic.sum()"
   ]
  },
  {
   "cell_type": "code",
   "execution_count": 59,
   "id": "92e428d9",
   "metadata": {},
   "outputs": [
    {
     "name": "stdout",
     "output_type": "stream",
     "text": [
      "<class 'pandas.core.frame.DataFrame'>\n",
      "RangeIndex: 4000 entries, 0 to 3999\n",
      "Data columns (total 13 columns):\n",
      " #   Column                               Non-Null Count  Dtype \n",
      "---  ------                               --------------  ----- \n",
      " 0   customer_id                          4000 non-null   object\n",
      " 1   first_name                           4000 non-null   object\n",
      " 2   last_name                            3875 non-null   object\n",
      " 3   gender                               4000 non-null   object\n",
      " 4   past_3_years_bike_related_purchases  4000 non-null   object\n",
      " 5   DOB                                  3913 non-null   object\n",
      " 6   job_title                            3494 non-null   object\n",
      " 7   job_industry_category                3344 non-null   object\n",
      " 8   wealth_segment                       4000 non-null   object\n",
      " 9   deceased_indicator                   4000 non-null   object\n",
      " 10  default                              3698 non-null   object\n",
      " 11  owns_car                             4000 non-null   object\n",
      " 12  tenure                               3913 non-null   object\n",
      "dtypes: object(13)\n",
      "memory usage: 406.4+ KB\n"
     ]
    }
   ],
   "source": [
    "CustomerDemographic.info()"
   ]
  },
  {
   "cell_type": "code",
   "execution_count": 60,
   "id": "4ca8c71b",
   "metadata": {},
   "outputs": [
    {
     "data": {
      "text/plain": [
       "4000"
      ]
     },
     "execution_count": 60,
     "metadata": {},
     "output_type": "execute_result"
    }
   ],
   "source": [
    "CustomerDemographic['customer_id'].nunique()"
   ]
  },
  {
   "cell_type": "code",
   "execution_count": 61,
   "id": "cc967e6a",
   "metadata": {},
   "outputs": [
    {
     "data": {
      "text/plain": [
       "array(['F', 'Male', 'Female', 'U', 'Femal', 'M'], dtype=object)"
      ]
     },
     "execution_count": 61,
     "metadata": {},
     "output_type": "execute_result"
    }
   ],
   "source": [
    "CustomerDemographic['gender'].unique()"
   ]
  },
  {
   "cell_type": "markdown",
   "id": "60b7ec63",
   "metadata": {},
   "source": [
    "### it'll be necesary to standarized the gender column, using, Male, Female, U or  M, F, U"
   ]
  },
  {
   "cell_type": "code",
   "execution_count": 72,
   "id": "5b5dfeee",
   "metadata": {},
   "outputs": [
    {
     "data": {
      "text/plain": [
       "0       1953-10-12 00:00:00\n",
       "1       1980-12-16 00:00:00\n",
       "2       1954-01-20 00:00:00\n",
       "3       1961-10-03 00:00:00\n",
       "4       1977-05-13 00:00:00\n",
       "               ...         \n",
       "3995    1975-08-09 00:00:00\n",
       "3996    2001-07-13 00:00:00\n",
       "3997                    NaN\n",
       "3998    1973-10-24 00:00:00\n",
       "3999    1991-11-05 00:00:00\n",
       "Name: DOB, Length: 4000, dtype: object"
      ]
     },
     "execution_count": 72,
     "metadata": {},
     "output_type": "execute_result"
    }
   ],
   "source": [
    "\n",
    "CustomerDemographic['DOB']"
   ]
  },
  {
   "cell_type": "code",
   "execution_count": 62,
   "id": "2289ecc3",
   "metadata": {
    "scrolled": true
   },
   "outputs": [
    {
     "ename": "TypeError",
     "evalue": "'>=' not supported between instances of 'datetime.datetime' and 'str'",
     "output_type": "error",
     "traceback": [
      "\u001b[1;31m---------------------------------------------------------------------------\u001b[0m",
      "\u001b[1;31mTypeError\u001b[0m                                 Traceback (most recent call last)",
      "Cell \u001b[1;32mIn[62], line 1\u001b[0m\n\u001b[1;32m----> 1\u001b[0m \u001b[38;5;28mprint\u001b[39m(\u001b[38;5;124m'\u001b[39m\u001b[38;5;124mmaxDate is: \u001b[39m\u001b[38;5;124m'\u001b[39m , \u001b[43mCustomerDemographic\u001b[49m\u001b[43m[\u001b[49m\u001b[38;5;124;43m'\u001b[39;49m\u001b[38;5;124;43mDOB\u001b[39;49m\u001b[38;5;124;43m'\u001b[39;49m\u001b[43m]\u001b[49m\u001b[38;5;241;43m.\u001b[39;49m\u001b[43mmax\u001b[49m\u001b[43m(\u001b[49m\u001b[43m)\u001b[49m)\n\u001b[0;32m      3\u001b[0m \u001b[38;5;28mprint\u001b[39m (\u001b[38;5;124m'\u001b[39m\u001b[38;5;124mminDtae is:\u001b[39m\u001b[38;5;124m'\u001b[39m,CustomerDemographic[\u001b[38;5;124m'\u001b[39m\u001b[38;5;124mDOB\u001b[39m\u001b[38;5;124m'\u001b[39m]\u001b[38;5;241m.\u001b[39mmin())\n",
      "File \u001b[1;32m~\\AppData\\Local\\Programs\\Python\\Python311\\Lib\\site-packages\\pandas\\core\\generic.py:11646\u001b[0m, in \u001b[0;36mNDFrame._add_numeric_operations.<locals>.max\u001b[1;34m(self, axis, skipna, numeric_only, **kwargs)\u001b[0m\n\u001b[0;32m  11627\u001b[0m \u001b[38;5;129m@doc\u001b[39m(\n\u001b[0;32m  11628\u001b[0m     _num_doc,\n\u001b[0;32m  11629\u001b[0m     desc\u001b[38;5;241m=\u001b[39m\u001b[38;5;124m\"\u001b[39m\u001b[38;5;124mReturn the maximum of the values over the requested axis.\u001b[39m\u001b[38;5;130;01m\\n\u001b[39;00m\u001b[38;5;130;01m\\n\u001b[39;00m\u001b[38;5;124m\"\u001b[39m\n\u001b[1;32m   (...)\u001b[0m\n\u001b[0;32m  11644\u001b[0m     \u001b[38;5;241m*\u001b[39m\u001b[38;5;241m*\u001b[39mkwargs,\n\u001b[0;32m  11645\u001b[0m ):\n\u001b[1;32m> 11646\u001b[0m     \u001b[38;5;28;01mreturn\u001b[39;00m \u001b[43mNDFrame\u001b[49m\u001b[38;5;241;43m.\u001b[39;49m\u001b[43mmax\u001b[49m\u001b[43m(\u001b[49m\u001b[38;5;28;43mself\u001b[39;49m\u001b[43m,\u001b[49m\u001b[43m \u001b[49m\u001b[43maxis\u001b[49m\u001b[43m,\u001b[49m\u001b[43m \u001b[49m\u001b[43mskipna\u001b[49m\u001b[43m,\u001b[49m\u001b[43m \u001b[49m\u001b[43mnumeric_only\u001b[49m\u001b[43m,\u001b[49m\u001b[43m \u001b[49m\u001b[38;5;241;43m*\u001b[39;49m\u001b[38;5;241;43m*\u001b[39;49m\u001b[43mkwargs\u001b[49m\u001b[43m)\u001b[49m\n",
      "File \u001b[1;32m~\\AppData\\Local\\Programs\\Python\\Python311\\Lib\\site-packages\\pandas\\core\\generic.py:11185\u001b[0m, in \u001b[0;36mNDFrame.max\u001b[1;34m(self, axis, skipna, numeric_only, **kwargs)\u001b[0m\n\u001b[0;32m  11178\u001b[0m \u001b[38;5;28;01mdef\u001b[39;00m \u001b[38;5;21mmax\u001b[39m(\n\u001b[0;32m  11179\u001b[0m     \u001b[38;5;28mself\u001b[39m,\n\u001b[0;32m  11180\u001b[0m     axis: Axis \u001b[38;5;241m|\u001b[39m \u001b[38;5;28;01mNone\u001b[39;00m \u001b[38;5;241m=\u001b[39m \u001b[38;5;241m0\u001b[39m,\n\u001b[1;32m   (...)\u001b[0m\n\u001b[0;32m  11183\u001b[0m     \u001b[38;5;241m*\u001b[39m\u001b[38;5;241m*\u001b[39mkwargs,\n\u001b[0;32m  11184\u001b[0m ):\n\u001b[1;32m> 11185\u001b[0m     \u001b[38;5;28;01mreturn\u001b[39;00m \u001b[38;5;28;43mself\u001b[39;49m\u001b[38;5;241;43m.\u001b[39;49m\u001b[43m_stat_function\u001b[49m\u001b[43m(\u001b[49m\n\u001b[0;32m  11186\u001b[0m \u001b[43m        \u001b[49m\u001b[38;5;124;43m\"\u001b[39;49m\u001b[38;5;124;43mmax\u001b[39;49m\u001b[38;5;124;43m\"\u001b[39;49m\u001b[43m,\u001b[49m\n\u001b[0;32m  11187\u001b[0m \u001b[43m        \u001b[49m\u001b[43mnanops\u001b[49m\u001b[38;5;241;43m.\u001b[39;49m\u001b[43mnanmax\u001b[49m\u001b[43m,\u001b[49m\n\u001b[0;32m  11188\u001b[0m \u001b[43m        \u001b[49m\u001b[43maxis\u001b[49m\u001b[43m,\u001b[49m\n\u001b[0;32m  11189\u001b[0m \u001b[43m        \u001b[49m\u001b[43mskipna\u001b[49m\u001b[43m,\u001b[49m\n\u001b[0;32m  11190\u001b[0m \u001b[43m        \u001b[49m\u001b[43mnumeric_only\u001b[49m\u001b[43m,\u001b[49m\n\u001b[0;32m  11191\u001b[0m \u001b[43m        \u001b[49m\u001b[38;5;241;43m*\u001b[39;49m\u001b[38;5;241;43m*\u001b[39;49m\u001b[43mkwargs\u001b[49m\u001b[43m,\u001b[49m\n\u001b[0;32m  11192\u001b[0m \u001b[43m    \u001b[49m\u001b[43m)\u001b[49m\n",
      "File \u001b[1;32m~\\AppData\\Local\\Programs\\Python\\Python311\\Lib\\site-packages\\pandas\\core\\generic.py:11158\u001b[0m, in \u001b[0;36mNDFrame._stat_function\u001b[1;34m(self, name, func, axis, skipna, numeric_only, **kwargs)\u001b[0m\n\u001b[0;32m  11154\u001b[0m     nv\u001b[38;5;241m.\u001b[39mvalidate_stat_func((), kwargs, fname\u001b[38;5;241m=\u001b[39mname)\n\u001b[0;32m  11156\u001b[0m validate_bool_kwarg(skipna, \u001b[38;5;124m\"\u001b[39m\u001b[38;5;124mskipna\u001b[39m\u001b[38;5;124m\"\u001b[39m, none_allowed\u001b[38;5;241m=\u001b[39m\u001b[38;5;28;01mFalse\u001b[39;00m)\n\u001b[1;32m> 11158\u001b[0m \u001b[38;5;28;01mreturn\u001b[39;00m \u001b[38;5;28;43mself\u001b[39;49m\u001b[38;5;241;43m.\u001b[39;49m\u001b[43m_reduce\u001b[49m\u001b[43m(\u001b[49m\n\u001b[0;32m  11159\u001b[0m \u001b[43m    \u001b[49m\u001b[43mfunc\u001b[49m\u001b[43m,\u001b[49m\u001b[43m \u001b[49m\u001b[43mname\u001b[49m\u001b[38;5;241;43m=\u001b[39;49m\u001b[43mname\u001b[49m\u001b[43m,\u001b[49m\u001b[43m \u001b[49m\u001b[43maxis\u001b[49m\u001b[38;5;241;43m=\u001b[39;49m\u001b[43maxis\u001b[49m\u001b[43m,\u001b[49m\u001b[43m \u001b[49m\u001b[43mskipna\u001b[49m\u001b[38;5;241;43m=\u001b[39;49m\u001b[43mskipna\u001b[49m\u001b[43m,\u001b[49m\u001b[43m \u001b[49m\u001b[43mnumeric_only\u001b[49m\u001b[38;5;241;43m=\u001b[39;49m\u001b[43mnumeric_only\u001b[49m\n\u001b[0;32m  11160\u001b[0m \u001b[43m\u001b[49m\u001b[43m)\u001b[49m\n",
      "File \u001b[1;32m~\\AppData\\Local\\Programs\\Python\\Python311\\Lib\\site-packages\\pandas\\core\\series.py:4666\u001b[0m, in \u001b[0;36mSeries._reduce\u001b[1;34m(self, op, name, axis, skipna, numeric_only, filter_type, **kwds)\u001b[0m\n\u001b[0;32m   4661\u001b[0m     \u001b[38;5;28;01mraise\u001b[39;00m \u001b[38;5;167;01mTypeError\u001b[39;00m(\n\u001b[0;32m   4662\u001b[0m         \u001b[38;5;124mf\u001b[39m\u001b[38;5;124m\"\u001b[39m\u001b[38;5;124mSeries.\u001b[39m\u001b[38;5;132;01m{\u001b[39;00mname\u001b[38;5;132;01m}\u001b[39;00m\u001b[38;5;124m does not allow \u001b[39m\u001b[38;5;132;01m{\u001b[39;00mkwd_name\u001b[38;5;132;01m}\u001b[39;00m\u001b[38;5;124m=\u001b[39m\u001b[38;5;132;01m{\u001b[39;00mnumeric_only\u001b[38;5;132;01m}\u001b[39;00m\u001b[38;5;124m \u001b[39m\u001b[38;5;124m\"\u001b[39m\n\u001b[0;32m   4663\u001b[0m         \u001b[38;5;124m\"\u001b[39m\u001b[38;5;124mwith non-numeric dtypes.\u001b[39m\u001b[38;5;124m\"\u001b[39m\n\u001b[0;32m   4664\u001b[0m     )\n\u001b[0;32m   4665\u001b[0m \u001b[38;5;28;01mwith\u001b[39;00m np\u001b[38;5;241m.\u001b[39merrstate(\u001b[38;5;28mall\u001b[39m\u001b[38;5;241m=\u001b[39m\u001b[38;5;124m\"\u001b[39m\u001b[38;5;124mignore\u001b[39m\u001b[38;5;124m\"\u001b[39m):\n\u001b[1;32m-> 4666\u001b[0m     \u001b[38;5;28;01mreturn\u001b[39;00m \u001b[43mop\u001b[49m\u001b[43m(\u001b[49m\u001b[43mdelegate\u001b[49m\u001b[43m,\u001b[49m\u001b[43m \u001b[49m\u001b[43mskipna\u001b[49m\u001b[38;5;241;43m=\u001b[39;49m\u001b[43mskipna\u001b[49m\u001b[43m,\u001b[49m\u001b[43m \u001b[49m\u001b[38;5;241;43m*\u001b[39;49m\u001b[38;5;241;43m*\u001b[39;49m\u001b[43mkwds\u001b[49m\u001b[43m)\u001b[49m\n",
      "File \u001b[1;32m~\\AppData\\Local\\Programs\\Python\\Python311\\Lib\\site-packages\\pandas\\core\\nanops.py:158\u001b[0m, in \u001b[0;36mbottleneck_switch.__call__.<locals>.f\u001b[1;34m(values, axis, skipna, **kwds)\u001b[0m\n\u001b[0;32m    156\u001b[0m         result \u001b[38;5;241m=\u001b[39m alt(values, axis\u001b[38;5;241m=\u001b[39maxis, skipna\u001b[38;5;241m=\u001b[39mskipna, \u001b[38;5;241m*\u001b[39m\u001b[38;5;241m*\u001b[39mkwds)\n\u001b[0;32m    157\u001b[0m \u001b[38;5;28;01melse\u001b[39;00m:\n\u001b[1;32m--> 158\u001b[0m     result \u001b[38;5;241m=\u001b[39m \u001b[43malt\u001b[49m\u001b[43m(\u001b[49m\u001b[43mvalues\u001b[49m\u001b[43m,\u001b[49m\u001b[43m \u001b[49m\u001b[43maxis\u001b[49m\u001b[38;5;241;43m=\u001b[39;49m\u001b[43maxis\u001b[49m\u001b[43m,\u001b[49m\u001b[43m \u001b[49m\u001b[43mskipna\u001b[49m\u001b[38;5;241;43m=\u001b[39;49m\u001b[43mskipna\u001b[49m\u001b[43m,\u001b[49m\u001b[43m \u001b[49m\u001b[38;5;241;43m*\u001b[39;49m\u001b[38;5;241;43m*\u001b[39;49m\u001b[43mkwds\u001b[49m\u001b[43m)\u001b[49m\n\u001b[0;32m    160\u001b[0m \u001b[38;5;28;01mreturn\u001b[39;00m result\n",
      "File \u001b[1;32m~\\AppData\\Local\\Programs\\Python\\Python311\\Lib\\site-packages\\pandas\\core\\nanops.py:421\u001b[0m, in \u001b[0;36m_datetimelike_compat.<locals>.new_func\u001b[1;34m(values, axis, skipna, mask, **kwargs)\u001b[0m\n\u001b[0;32m    418\u001b[0m \u001b[38;5;28;01mif\u001b[39;00m datetimelike \u001b[38;5;129;01mand\u001b[39;00m mask \u001b[38;5;129;01mis\u001b[39;00m \u001b[38;5;28;01mNone\u001b[39;00m:\n\u001b[0;32m    419\u001b[0m     mask \u001b[38;5;241m=\u001b[39m isna(values)\n\u001b[1;32m--> 421\u001b[0m result \u001b[38;5;241m=\u001b[39m \u001b[43mfunc\u001b[49m\u001b[43m(\u001b[49m\u001b[43mvalues\u001b[49m\u001b[43m,\u001b[49m\u001b[43m \u001b[49m\u001b[43maxis\u001b[49m\u001b[38;5;241;43m=\u001b[39;49m\u001b[43maxis\u001b[49m\u001b[43m,\u001b[49m\u001b[43m \u001b[49m\u001b[43mskipna\u001b[49m\u001b[38;5;241;43m=\u001b[39;49m\u001b[43mskipna\u001b[49m\u001b[43m,\u001b[49m\u001b[43m \u001b[49m\u001b[43mmask\u001b[49m\u001b[38;5;241;43m=\u001b[39;49m\u001b[43mmask\u001b[49m\u001b[43m,\u001b[49m\u001b[43m \u001b[49m\u001b[38;5;241;43m*\u001b[39;49m\u001b[38;5;241;43m*\u001b[39;49m\u001b[43mkwargs\u001b[49m\u001b[43m)\u001b[49m\n\u001b[0;32m    423\u001b[0m \u001b[38;5;28;01mif\u001b[39;00m datetimelike:\n\u001b[0;32m    424\u001b[0m     result \u001b[38;5;241m=\u001b[39m _wrap_results(result, orig_values\u001b[38;5;241m.\u001b[39mdtype, fill_value\u001b[38;5;241m=\u001b[39miNaT)\n",
      "File \u001b[1;32m~\\AppData\\Local\\Programs\\Python\\Python311\\Lib\\site-packages\\pandas\\core\\nanops.py:1094\u001b[0m, in \u001b[0;36m_nanminmax.<locals>.reduction\u001b[1;34m(values, axis, skipna, mask)\u001b[0m\n\u001b[0;32m   1092\u001b[0m         result \u001b[38;5;241m=\u001b[39m np\u001b[38;5;241m.\u001b[39mnan\n\u001b[0;32m   1093\u001b[0m \u001b[38;5;28;01melse\u001b[39;00m:\n\u001b[1;32m-> 1094\u001b[0m     result \u001b[38;5;241m=\u001b[39m \u001b[38;5;28;43mgetattr\u001b[39;49m\u001b[43m(\u001b[49m\u001b[43mvalues\u001b[49m\u001b[43m,\u001b[49m\u001b[43m \u001b[49m\u001b[43mmeth\u001b[49m\u001b[43m)\u001b[49m\u001b[43m(\u001b[49m\u001b[43maxis\u001b[49m\u001b[43m)\u001b[49m\n\u001b[0;32m   1096\u001b[0m result \u001b[38;5;241m=\u001b[39m _maybe_null_out(result, axis, mask, values\u001b[38;5;241m.\u001b[39mshape)\n\u001b[0;32m   1097\u001b[0m \u001b[38;5;28;01mreturn\u001b[39;00m result\n",
      "File \u001b[1;32m~\\AppData\\Local\\Programs\\Python\\Python311\\Lib\\site-packages\\numpy\\core\\_methods.py:40\u001b[0m, in \u001b[0;36m_amax\u001b[1;34m(a, axis, out, keepdims, initial, where)\u001b[0m\n\u001b[0;32m     38\u001b[0m \u001b[38;5;28;01mdef\u001b[39;00m \u001b[38;5;21m_amax\u001b[39m(a, axis\u001b[38;5;241m=\u001b[39m\u001b[38;5;28;01mNone\u001b[39;00m, out\u001b[38;5;241m=\u001b[39m\u001b[38;5;28;01mNone\u001b[39;00m, keepdims\u001b[38;5;241m=\u001b[39m\u001b[38;5;28;01mFalse\u001b[39;00m,\n\u001b[0;32m     39\u001b[0m           initial\u001b[38;5;241m=\u001b[39m_NoValue, where\u001b[38;5;241m=\u001b[39m\u001b[38;5;28;01mTrue\u001b[39;00m):\n\u001b[1;32m---> 40\u001b[0m     \u001b[38;5;28;01mreturn\u001b[39;00m umr_maximum(a, axis, \u001b[38;5;28;01mNone\u001b[39;00m, out, keepdims, initial, where)\n",
      "\u001b[1;31mTypeError\u001b[0m: '>=' not supported between instances of 'datetime.datetime' and 'str'"
     ]
    }
   ],
   "source": [
    "print('maxDate is: ' , CustomerDemographic['DOB'].max())\n",
    "\n",
    "print ('minDtae is:',CustomerDemographic['DOB'].min())"
   ]
  },
  {
   "cell_type": "markdown",
   "id": "ed32ea7c",
   "metadata": {},
   "source": [
    "### When trying to run this code we got the error : '>=' not supported between instances of 'datetime.datetime' and 'str'\n",
    "### It means that not all the dat in tha DOB column is formated as Datetime and we'll need to fix that"
   ]
  },
  {
   "cell_type": "code",
   "execution_count": 73,
   "id": "ef593bbe",
   "metadata": {},
   "outputs": [
    {
     "data": {
      "text/plain": [
       "195"
      ]
     },
     "execution_count": 73,
     "metadata": {},
     "output_type": "execute_result"
    }
   ],
   "source": [
    "CustomerDemographic['job_title'].nunique()"
   ]
  },
  {
   "cell_type": "code",
   "execution_count": 74,
   "id": "d227359d",
   "metadata": {},
   "outputs": [
    {
     "data": {
      "text/plain": [
       "array(['Health', 'Financial Services', 'Property', 'IT', nan, 'Retail',\n",
       "       'Argiculture', 'Manufacturing', 'Telecommunications',\n",
       "       'Entertainment'], dtype=object)"
      ]
     },
     "execution_count": 74,
     "metadata": {},
     "output_type": "execute_result"
    }
   ],
   "source": [
    "CustomerDemographic['job_industry_category'].unique()"
   ]
  },
  {
   "cell_type": "code",
   "execution_count": 75,
   "id": "93255c20",
   "metadata": {},
   "outputs": [
    {
     "data": {
      "text/plain": [
       "array(['Mass Customer', 'Affluent Customer', 'High Net Worth'],\n",
       "      dtype=object)"
      ]
     },
     "execution_count": 75,
     "metadata": {},
     "output_type": "execute_result"
    }
   ],
   "source": [
    "CustomerDemographic['wealth_segment'].unique()"
   ]
  },
  {
   "cell_type": "code",
   "execution_count": 76,
   "id": "2461749d",
   "metadata": {},
   "outputs": [
    {
     "data": {
      "text/plain": [
       "array(['N', 'Y'], dtype=object)"
      ]
     },
     "execution_count": 76,
     "metadata": {},
     "output_type": "execute_result"
    }
   ],
   "source": [
    "CustomerDemographic['deceased_indicator'].unique()"
   ]
  },
  {
   "cell_type": "code",
   "execution_count": 77,
   "id": "1c56f581",
   "metadata": {},
   "outputs": [
    {
     "data": {
      "text/plain": [
       "array(['Yes', 'No'], dtype=object)"
      ]
     },
     "execution_count": 77,
     "metadata": {},
     "output_type": "execute_result"
    }
   ],
   "source": [
    "CustomerDemographic['owns_car'].unique()"
   ]
  },
  {
   "cell_type": "code",
   "execution_count": 78,
   "id": "745459e6",
   "metadata": {},
   "outputs": [
    {
     "data": {
      "text/plain": [
       "<Axes: ylabel='Frequency'>"
      ]
     },
     "execution_count": 78,
     "metadata": {},
     "output_type": "execute_result"
    },
    {
     "data": {
      "image/png": "[encoded data removed]",
      "text/plain": [
       "<Figure size 640x480 with 1 Axes>"
      ]
     },
     "metadata": {},
     "output_type": "display_data"
    }
   ],
   "source": [
    "CustomerDemographic['tenure'].plot(kind= 'hist', bins=10)"
   ]
  },
  {
   "cell_type": "code",
   "execution_count": null,
   "id": "832d9bd9",
   "metadata": {},
   "outputs": [],
   "source": []
  },
  {
   "cell_type": "markdown",
   "id": "fa1e28e6",
   "metadata": {},
   "source": [
    "# Customer Adress Table"
   ]
  },
  {
   "cell_type": "code",
   "execution_count": 79,
   "id": "b5f43b62",
   "metadata": {},
   "outputs": [],
   "source": [
    "CustomerAdress = pd.read_excel(xls, 'CustomerAddress')"
   ]
  },
  {
   "cell_type": "code",
   "execution_count": 80,
   "id": "49f7df27",
   "metadata": {},
   "outputs": [
    {
     "data": {
      "text/html": [
       "<div>\n",
       "<style scoped>\n",
       "    .dataframe tbody tr th:only-of-type {\n",
       "        vertical-align: middle;\n",
       "    }\n",
       "\n",
       "    .dataframe tbody tr th {\n",
       "        vertical-align: top;\n",
       "    }\n",
       "\n",
       "    .dataframe thead th {\n",
       "        text-align: right;\n",
       "    }\n",
       "</style>\n",
       "<table border=\"1\" class=\"dataframe\">\n",
       "  <thead>\n",
       "    <tr style=\"text-align: right;\">\n",
       "      <th></th>\n",
       "      <th>Note: The data and information in this document is reflective of a hypothetical situation and client. This document is to be used for KPMG Virtual Internship purposes only.</th>\n",
       "      <th>Unnamed: 1</th>\n",
       "      <th>Unnamed: 2</th>\n",
       "      <th>Unnamed: 3</th>\n",
       "      <th>Unnamed: 4</th>\n",
       "      <th>Unnamed: 5</th>\n",
       "    </tr>\n",
       "  </thead>\n",
       "  <tbody>\n",
       "    <tr>\n",
       "      <th>0</th>\n",
       "      <td>customer_id</td>\n",
       "      <td>address</td>\n",
       "      <td>postcode</td>\n",
       "      <td>state</td>\n",
       "      <td>country</td>\n",
       "      <td>property_valuation</td>\n",
       "    </tr>\n",
       "    <tr>\n",
       "      <th>1</th>\n",
       "      <td>1</td>\n",
       "      <td>060 Morning Avenue</td>\n",
       "      <td>2016</td>\n",
       "      <td>New South Wales</td>\n",
       "      <td>Australia</td>\n",
       "      <td>10</td>\n",
       "    </tr>\n",
       "    <tr>\n",
       "      <th>2</th>\n",
       "      <td>2</td>\n",
       "      <td>6 Meadow Vale Court</td>\n",
       "      <td>2153</td>\n",
       "      <td>New South Wales</td>\n",
       "      <td>Australia</td>\n",
       "      <td>10</td>\n",
       "    </tr>\n",
       "    <tr>\n",
       "      <th>3</th>\n",
       "      <td>4</td>\n",
       "      <td>0 Holy Cross Court</td>\n",
       "      <td>4211</td>\n",
       "      <td>QLD</td>\n",
       "      <td>Australia</td>\n",
       "      <td>9</td>\n",
       "    </tr>\n",
       "    <tr>\n",
       "      <th>4</th>\n",
       "      <td>5</td>\n",
       "      <td>17979 Del Mar Point</td>\n",
       "      <td>2448</td>\n",
       "      <td>New South Wales</td>\n",
       "      <td>Australia</td>\n",
       "      <td>4</td>\n",
       "    </tr>\n",
       "  </tbody>\n",
       "</table>\n",
       "</div>"
      ],
      "text/plain": [
       "  Note: The data and information in this document is reflective of a hypothetical situation and client. This document is to be used for KPMG Virtual Internship purposes only.    \n",
       "0                                        customer_id                                                                                                                             \\\n",
       "1                                                  1                                                                                                                              \n",
       "2                                                  2                                                                                                                              \n",
       "3                                                  4                                                                                                                              \n",
       "4                                                  5                                                                                                                              \n",
       "\n",
       "            Unnamed: 1 Unnamed: 2       Unnamed: 3 Unnamed: 4   \n",
       "0              address   postcode            state    country  \\\n",
       "1   060 Morning Avenue       2016  New South Wales  Australia   \n",
       "2  6 Meadow Vale Court       2153  New South Wales  Australia   \n",
       "3   0 Holy Cross Court       4211              QLD  Australia   \n",
       "4  17979 Del Mar Point       2448  New South Wales  Australia   \n",
       "\n",
       "           Unnamed: 5  \n",
       "0  property_valuation  \n",
       "1                  10  \n",
       "2                  10  \n",
       "3                   9  \n",
       "4                   4  "
      ]
     },
     "execution_count": 80,
     "metadata": {},
     "output_type": "execute_result"
    }
   ],
   "source": [
    "CustomerAdress.head()"
   ]
  },
  {
   "cell_type": "code",
   "execution_count": 81,
   "id": "acfaaaa5",
   "metadata": {},
   "outputs": [],
   "source": [
    "CustomerAdress.columns= CustomerAdress.iloc[0]"
   ]
  },
  {
   "cell_type": "code",
   "execution_count": 82,
   "id": "70a60894",
   "metadata": {},
   "outputs": [],
   "source": [
    "CustomerAdress.drop(0, axis = 0, inplace= True)\n"
   ]
  },
  {
   "cell_type": "code",
   "execution_count": 83,
   "id": "d85890b7",
   "metadata": {},
   "outputs": [],
   "source": [
    "CustomerAdress.reset_index(inplace=True)"
   ]
  },
  {
   "cell_type": "code",
   "execution_count": 84,
   "id": "63768a90",
   "metadata": {},
   "outputs": [
    {
     "data": {
      "text/html": [
       "<div>\n",
       "<style scoped>\n",
       "    .dataframe tbody tr th:only-of-type {\n",
       "        vertical-align: middle;\n",
       "    }\n",
       "\n",
       "    .dataframe tbody tr th {\n",
       "        vertical-align: top;\n",
       "    }\n",
       "\n",
       "    .dataframe thead th {\n",
       "        text-align: right;\n",
       "    }\n",
       "</style>\n",
       "<table border=\"1\" class=\"dataframe\">\n",
       "  <thead>\n",
       "    <tr style=\"text-align: right;\">\n",
       "      <th></th>\n",
       "      <th>index</th>\n",
       "      <th>customer_id</th>\n",
       "      <th>address</th>\n",
       "      <th>postcode</th>\n",
       "      <th>state</th>\n",
       "      <th>country</th>\n",
       "      <th>property_valuation</th>\n",
       "    </tr>\n",
       "  </thead>\n",
       "  <tbody>\n",
       "    <tr>\n",
       "      <th>0</th>\n",
       "      <td>1</td>\n",
       "      <td>1</td>\n",
       "      <td>060 Morning Avenue</td>\n",
       "      <td>2016</td>\n",
       "      <td>New South Wales</td>\n",
       "      <td>Australia</td>\n",
       "      <td>10</td>\n",
       "    </tr>\n",
       "    <tr>\n",
       "      <th>1</th>\n",
       "      <td>2</td>\n",
       "      <td>2</td>\n",
       "      <td>6 Meadow Vale Court</td>\n",
       "      <td>2153</td>\n",
       "      <td>New South Wales</td>\n",
       "      <td>Australia</td>\n",
       "      <td>10</td>\n",
       "    </tr>\n",
       "    <tr>\n",
       "      <th>2</th>\n",
       "      <td>3</td>\n",
       "      <td>4</td>\n",
       "      <td>0 Holy Cross Court</td>\n",
       "      <td>4211</td>\n",
       "      <td>QLD</td>\n",
       "      <td>Australia</td>\n",
       "      <td>9</td>\n",
       "    </tr>\n",
       "    <tr>\n",
       "      <th>3</th>\n",
       "      <td>4</td>\n",
       "      <td>5</td>\n",
       "      <td>17979 Del Mar Point</td>\n",
       "      <td>2448</td>\n",
       "      <td>New South Wales</td>\n",
       "      <td>Australia</td>\n",
       "      <td>4</td>\n",
       "    </tr>\n",
       "    <tr>\n",
       "      <th>4</th>\n",
       "      <td>5</td>\n",
       "      <td>6</td>\n",
       "      <td>9 Oakridge Court</td>\n",
       "      <td>3216</td>\n",
       "      <td>VIC</td>\n",
       "      <td>Australia</td>\n",
       "      <td>9</td>\n",
       "    </tr>\n",
       "  </tbody>\n",
       "</table>\n",
       "</div>"
      ],
      "text/plain": [
       "0  index customer_id              address postcode            state   \n",
       "0      1           1   060 Morning Avenue     2016  New South Wales  \\\n",
       "1      2           2  6 Meadow Vale Court     2153  New South Wales   \n",
       "2      3           4   0 Holy Cross Court     4211              QLD   \n",
       "3      4           5  17979 Del Mar Point     2448  New South Wales   \n",
       "4      5           6     9 Oakridge Court     3216              VIC   \n",
       "\n",
       "0    country property_valuation  \n",
       "0  Australia                 10  \n",
       "1  Australia                 10  \n",
       "2  Australia                  9  \n",
       "3  Australia                  4  \n",
       "4  Australia                  9  "
      ]
     },
     "execution_count": 84,
     "metadata": {},
     "output_type": "execute_result"
    }
   ],
   "source": [
    "CustomerAdress.head()"
   ]
  },
  {
   "cell_type": "code",
   "execution_count": 85,
   "id": "ec37b623",
   "metadata": {
    "scrolled": true
   },
   "outputs": [],
   "source": [
    "CustomerAdress.drop('index', axis=1, inplace=True)\n"
   ]
  },
  {
   "cell_type": "code",
   "execution_count": 86,
   "id": "492adf76",
   "metadata": {},
   "outputs": [
    {
     "data": {
      "text/html": [
       "<div>\n",
       "<style scoped>\n",
       "    .dataframe tbody tr th:only-of-type {\n",
       "        vertical-align: middle;\n",
       "    }\n",
       "\n",
       "    .dataframe tbody tr th {\n",
       "        vertical-align: top;\n",
       "    }\n",
       "\n",
       "    .dataframe thead th {\n",
       "        text-align: right;\n",
       "    }\n",
       "</style>\n",
       "<table border=\"1\" class=\"dataframe\">\n",
       "  <thead>\n",
       "    <tr style=\"text-align: right;\">\n",
       "      <th></th>\n",
       "      <th>customer_id</th>\n",
       "      <th>address</th>\n",
       "      <th>postcode</th>\n",
       "      <th>state</th>\n",
       "      <th>country</th>\n",
       "      <th>property_valuation</th>\n",
       "    </tr>\n",
       "  </thead>\n",
       "  <tbody>\n",
       "    <tr>\n",
       "      <th>0</th>\n",
       "      <td>1</td>\n",
       "      <td>060 Morning Avenue</td>\n",
       "      <td>2016</td>\n",
       "      <td>New South Wales</td>\n",
       "      <td>Australia</td>\n",
       "      <td>10</td>\n",
       "    </tr>\n",
       "    <tr>\n",
       "      <th>1</th>\n",
       "      <td>2</td>\n",
       "      <td>6 Meadow Vale Court</td>\n",
       "      <td>2153</td>\n",
       "      <td>New South Wales</td>\n",
       "      <td>Australia</td>\n",
       "      <td>10</td>\n",
       "    </tr>\n",
       "    <tr>\n",
       "      <th>2</th>\n",
       "      <td>4</td>\n",
       "      <td>0 Holy Cross Court</td>\n",
       "      <td>4211</td>\n",
       "      <td>QLD</td>\n",
       "      <td>Australia</td>\n",
       "      <td>9</td>\n",
       "    </tr>\n",
       "    <tr>\n",
       "      <th>3</th>\n",
       "      <td>5</td>\n",
       "      <td>17979 Del Mar Point</td>\n",
       "      <td>2448</td>\n",
       "      <td>New South Wales</td>\n",
       "      <td>Australia</td>\n",
       "      <td>4</td>\n",
       "    </tr>\n",
       "    <tr>\n",
       "      <th>4</th>\n",
       "      <td>6</td>\n",
       "      <td>9 Oakridge Court</td>\n",
       "      <td>3216</td>\n",
       "      <td>VIC</td>\n",
       "      <td>Australia</td>\n",
       "      <td>9</td>\n",
       "    </tr>\n",
       "  </tbody>\n",
       "</table>\n",
       "</div>"
      ],
      "text/plain": [
       "0 customer_id              address postcode            state    country   \n",
       "0           1   060 Morning Avenue     2016  New South Wales  Australia  \\\n",
       "1           2  6 Meadow Vale Court     2153  New South Wales  Australia   \n",
       "2           4   0 Holy Cross Court     4211              QLD  Australia   \n",
       "3           5  17979 Del Mar Point     2448  New South Wales  Australia   \n",
       "4           6     9 Oakridge Court     3216              VIC  Australia   \n",
       "\n",
       "0 property_valuation  \n",
       "0                 10  \n",
       "1                 10  \n",
       "2                  9  \n",
       "3                  4  \n",
       "4                  9  "
      ]
     },
     "execution_count": 86,
     "metadata": {},
     "output_type": "execute_result"
    }
   ],
   "source": [
    "CustomerAdress.head()"
   ]
  },
  {
   "cell_type": "code",
   "execution_count": 87,
   "id": "50519ac9",
   "metadata": {},
   "outputs": [
    {
     "data": {
      "text/plain": [
       "0\n",
       "customer_id           0\n",
       "address               0\n",
       "postcode              0\n",
       "state                 0\n",
       "country               0\n",
       "property_valuation    0\n",
       "dtype: int64"
      ]
     },
     "execution_count": 87,
     "metadata": {},
     "output_type": "execute_result"
    }
   ],
   "source": [
    "CustomerAdress.isnull().sum()"
   ]
  },
  {
   "cell_type": "code",
   "execution_count": 88,
   "id": "770cc092",
   "metadata": {},
   "outputs": [
    {
     "data": {
      "text/plain": [
       "3999"
      ]
     },
     "execution_count": 88,
     "metadata": {},
     "output_type": "execute_result"
    }
   ],
   "source": [
    "CustomerAdress['customer_id'].nunique()"
   ]
  },
  {
   "cell_type": "code",
   "execution_count": 89,
   "id": "d5774a7b",
   "metadata": {},
   "outputs": [
    {
     "name": "stdout",
     "output_type": "stream",
     "text": [
      "<class 'pandas.core.frame.DataFrame'>\n",
      "RangeIndex: 3999 entries, 0 to 3998\n",
      "Data columns (total 6 columns):\n",
      " #   Column              Non-Null Count  Dtype \n",
      "---  ------              --------------  ----- \n",
      " 0   customer_id         3999 non-null   object\n",
      " 1   address             3999 non-null   object\n",
      " 2   postcode            3999 non-null   object\n",
      " 3   state               3999 non-null   object\n",
      " 4   country             3999 non-null   object\n",
      " 5   property_valuation  3999 non-null   object\n",
      "dtypes: object(6)\n",
      "memory usage: 187.6+ KB\n"
     ]
    }
   ],
   "source": [
    "CustomerAdress.info()"
   ]
  },
  {
   "cell_type": "code",
   "execution_count": null,
   "id": "3d4b1668",
   "metadata": {},
   "outputs": [],
   "source": []
  },
  {
   "cell_type": "markdown",
   "id": "1854ef41",
   "metadata": {},
   "source": [
    "# DATA CLEANING"
   ]
  },
  {
   "cell_type": "code",
   "execution_count": 90,
   "id": "139e0383",
   "metadata": {},
   "outputs": [
    {
     "name": "stdout",
     "output_type": "stream",
     "text": [
      "<class 'pandas.core.frame.DataFrame'>\n",
      "RangeIndex: 20000 entries, 0 to 19999\n",
      "Data columns (total 14 columns):\n",
      " #   Column                   Non-Null Count  Dtype \n",
      "---  ------                   --------------  ----- \n",
      " 0   index                    20000 non-null  int64 \n",
      " 1   transaction_id           20000 non-null  object\n",
      " 2   product_id               20000 non-null  object\n",
      " 3   customer_id              20000 non-null  object\n",
      " 4   transaction_date         20000 non-null  object\n",
      " 5   online_order             19640 non-null  object\n",
      " 6   order_status             20000 non-null  object\n",
      " 7   brand                    19803 non-null  object\n",
      " 8   product_line             19803 non-null  object\n",
      " 9   product_class            19803 non-null  object\n",
      " 10  product_size             19803 non-null  object\n",
      " 11  list_price               20000 non-null  object\n",
      " 12  standard_cost            19803 non-null  object\n",
      " 13  product_first_sold_date  19803 non-null  object\n",
      "dtypes: int64(1), object(13)\n",
      "memory usage: 2.1+ MB\n"
     ]
    }
   ],
   "source": [
    "Transactions.info()"
   ]
  },
  {
   "cell_type": "code",
   "execution_count": 91,
   "id": "e5467ca9",
   "metadata": {},
   "outputs": [
    {
     "name": "stdout",
     "output_type": "stream",
     "text": [
      "<class 'pandas.core.frame.DataFrame'>\n",
      "RangeIndex: 4000 entries, 0 to 3999\n",
      "Data columns (total 13 columns):\n",
      " #   Column                               Non-Null Count  Dtype \n",
      "---  ------                               --------------  ----- \n",
      " 0   customer_id                          4000 non-null   object\n",
      " 1   first_name                           4000 non-null   object\n",
      " 2   last_name                            3875 non-null   object\n",
      " 3   gender                               4000 non-null   object\n",
      " 4   past_3_years_bike_related_purchases  4000 non-null   object\n",
      " 5   DOB                                  3913 non-null   object\n",
      " 6   job_title                            3494 non-null   object\n",
      " 7   job_industry_category                3344 non-null   object\n",
      " 8   wealth_segment                       4000 non-null   object\n",
      " 9   deceased_indicator                   4000 non-null   object\n",
      " 10  default                              3698 non-null   object\n",
      " 11  owns_car                             4000 non-null   object\n",
      " 12  tenure                               3913 non-null   object\n",
      "dtypes: object(13)\n",
      "memory usage: 406.4+ KB\n"
     ]
    }
   ],
   "source": [
    "CustomerDemographic.info()"
   ]
  },
  {
   "cell_type": "code",
   "execution_count": 92,
   "id": "872134e2",
   "metadata": {},
   "outputs": [],
   "source": [
    "Transactions['customer_id']= Transactions['customer_id'].astype(str)"
   ]
  },
  {
   "cell_type": "code",
   "execution_count": 93,
   "id": "7d49ffdd",
   "metadata": {},
   "outputs": [],
   "source": [
    "CustomerDemographic['customer_id']= CustomerDemographic['customer_id'].astype(str)"
   ]
  },
  {
   "cell_type": "code",
   "execution_count": null,
   "id": "4ee9e60a",
   "metadata": {},
   "outputs": [],
   "source": []
  },
  {
   "cell_type": "code",
   "execution_count": null,
   "id": "1c3ccc13",
   "metadata": {},
   "outputs": [],
   "source": []
  },
  {
   "cell_type": "code",
   "execution_count": 94,
   "id": "e1104c9b",
   "metadata": {},
   "outputs": [],
   "source": [
    "customer_fullDemographic = pd.merge(CustomerDemographic, CustomerAdress,on='customer_id', how='left')"
   ]
  },
  {
   "cell_type": "code",
   "execution_count": 95,
   "id": "aaab3ee1",
   "metadata": {},
   "outputs": [
    {
     "data": {
      "text/html": [
       "<div>\n",
       "<style scoped>\n",
       "    .dataframe tbody tr th:only-of-type {\n",
       "        vertical-align: middle;\n",
       "    }\n",
       "\n",
       "    .dataframe tbody tr th {\n",
       "        vertical-align: top;\n",
       "    }\n",
       "\n",
       "    .dataframe thead th {\n",
       "        text-align: right;\n",
       "    }\n",
       "</style>\n",
       "<table border=\"1\" class=\"dataframe\">\n",
       "  <thead>\n",
       "    <tr style=\"text-align: right;\">\n",
       "      <th></th>\n",
       "      <th>customer_id</th>\n",
       "      <th>first_name</th>\n",
       "      <th>last_name</th>\n",
       "      <th>gender</th>\n",
       "      <th>past_3_years_bike_related_purchases</th>\n",
       "      <th>DOB</th>\n",
       "      <th>job_title</th>\n",
       "      <th>job_industry_category</th>\n",
       "      <th>wealth_segment</th>\n",
       "      <th>deceased_indicator</th>\n",
       "      <th>default</th>\n",
       "      <th>owns_car</th>\n",
       "      <th>tenure</th>\n",
       "      <th>address</th>\n",
       "      <th>postcode</th>\n",
       "      <th>state</th>\n",
       "      <th>country</th>\n",
       "      <th>property_valuation</th>\n",
       "    </tr>\n",
       "  </thead>\n",
       "  <tbody>\n",
       "    <tr>\n",
       "      <th>0</th>\n",
       "      <td>1</td>\n",
       "      <td>Laraine</td>\n",
       "      <td>Medendorp</td>\n",
       "      <td>F</td>\n",
       "      <td>93</td>\n",
       "      <td>1953-10-12 00:00:00</td>\n",
       "      <td>Executive Secretary</td>\n",
       "      <td>Health</td>\n",
       "      <td>Mass Customer</td>\n",
       "      <td>N</td>\n",
       "      <td>\"'</td>\n",
       "      <td>Yes</td>\n",
       "      <td>11</td>\n",
       "      <td>NaN</td>\n",
       "      <td>NaN</td>\n",
       "      <td>NaN</td>\n",
       "      <td>NaN</td>\n",
       "      <td>NaN</td>\n",
       "    </tr>\n",
       "    <tr>\n",
       "      <th>1</th>\n",
       "      <td>2</td>\n",
       "      <td>Eli</td>\n",
       "      <td>Bockman</td>\n",
       "      <td>Male</td>\n",
       "      <td>81</td>\n",
       "      <td>1980-12-16 00:00:00</td>\n",
       "      <td>Administrative Officer</td>\n",
       "      <td>Financial Services</td>\n",
       "      <td>Mass Customer</td>\n",
       "      <td>N</td>\n",
       "      <td>&lt;script&gt;alert('hi')&lt;/script&gt;</td>\n",
       "      <td>Yes</td>\n",
       "      <td>16</td>\n",
       "      <td>NaN</td>\n",
       "      <td>NaN</td>\n",
       "      <td>NaN</td>\n",
       "      <td>NaN</td>\n",
       "      <td>NaN</td>\n",
       "    </tr>\n",
       "    <tr>\n",
       "      <th>2</th>\n",
       "      <td>3</td>\n",
       "      <td>Arlin</td>\n",
       "      <td>Dearle</td>\n",
       "      <td>Male</td>\n",
       "      <td>61</td>\n",
       "      <td>1954-01-20 00:00:00</td>\n",
       "      <td>Recruiting Manager</td>\n",
       "      <td>Property</td>\n",
       "      <td>Mass Customer</td>\n",
       "      <td>N</td>\n",
       "      <td>2018-02-01 00:00:00</td>\n",
       "      <td>Yes</td>\n",
       "      <td>15</td>\n",
       "      <td>NaN</td>\n",
       "      <td>NaN</td>\n",
       "      <td>NaN</td>\n",
       "      <td>NaN</td>\n",
       "      <td>NaN</td>\n",
       "    </tr>\n",
       "    <tr>\n",
       "      <th>3</th>\n",
       "      <td>4</td>\n",
       "      <td>Talbot</td>\n",
       "      <td>NaN</td>\n",
       "      <td>Male</td>\n",
       "      <td>33</td>\n",
       "      <td>1961-10-03 00:00:00</td>\n",
       "      <td>NaN</td>\n",
       "      <td>IT</td>\n",
       "      <td>Mass Customer</td>\n",
       "      <td>N</td>\n",
       "      <td>() { _; } &gt;_[$($())] { touch /tmp/blns.shellsh...</td>\n",
       "      <td>No</td>\n",
       "      <td>7</td>\n",
       "      <td>NaN</td>\n",
       "      <td>NaN</td>\n",
       "      <td>NaN</td>\n",
       "      <td>NaN</td>\n",
       "      <td>NaN</td>\n",
       "    </tr>\n",
       "    <tr>\n",
       "      <th>4</th>\n",
       "      <td>5</td>\n",
       "      <td>Sheila-kathryn</td>\n",
       "      <td>Calton</td>\n",
       "      <td>Female</td>\n",
       "      <td>56</td>\n",
       "      <td>1977-05-13 00:00:00</td>\n",
       "      <td>Senior Editor</td>\n",
       "      <td>NaN</td>\n",
       "      <td>Affluent Customer</td>\n",
       "      <td>N</td>\n",
       "      <td>NIL</td>\n",
       "      <td>Yes</td>\n",
       "      <td>8</td>\n",
       "      <td>NaN</td>\n",
       "      <td>NaN</td>\n",
       "      <td>NaN</td>\n",
       "      <td>NaN</td>\n",
       "      <td>NaN</td>\n",
       "    </tr>\n",
       "  </tbody>\n",
       "</table>\n",
       "</div>"
      ],
      "text/plain": [
       "0 customer_id      first_name  last_name  gender   \n",
       "0           1         Laraine  Medendorp       F  \\\n",
       "1           2             Eli    Bockman    Male   \n",
       "2           3           Arlin     Dearle    Male   \n",
       "3           4          Talbot        NaN    Male   \n",
       "4           5  Sheila-kathryn     Calton  Female   \n",
       "\n",
       "0 past_3_years_bike_related_purchases                  DOB   \n",
       "0                                  93  1953-10-12 00:00:00  \\\n",
       "1                                  81  1980-12-16 00:00:00   \n",
       "2                                  61  1954-01-20 00:00:00   \n",
       "3                                  33  1961-10-03 00:00:00   \n",
       "4                                  56  1977-05-13 00:00:00   \n",
       "\n",
       "0               job_title job_industry_category     wealth_segment   \n",
       "0     Executive Secretary                Health      Mass Customer  \\\n",
       "1  Administrative Officer    Financial Services      Mass Customer   \n",
       "2      Recruiting Manager              Property      Mass Customer   \n",
       "3                     NaN                    IT      Mass Customer   \n",
       "4           Senior Editor                   NaN  Affluent Customer   \n",
       "\n",
       "0 deceased_indicator                                            default   \n",
       "0                  N                                                 \"'  \\\n",
       "1                  N                       <script>alert('hi')</script>   \n",
       "2                  N                                2018-02-01 00:00:00   \n",
       "3                  N  () { _; } >_[$($())] { touch /tmp/blns.shellsh...   \n",
       "4                  N                                                NIL   \n",
       "\n",
       "0 owns_car tenure address postcode state country property_valuation  \n",
       "0      Yes     11     NaN      NaN   NaN     NaN                NaN  \n",
       "1      Yes     16     NaN      NaN   NaN     NaN                NaN  \n",
       "2      Yes     15     NaN      NaN   NaN     NaN                NaN  \n",
       "3       No      7     NaN      NaN   NaN     NaN                NaN  \n",
       "4      Yes      8     NaN      NaN   NaN     NaN                NaN  "
      ]
     },
     "execution_count": 95,
     "metadata": {},
     "output_type": "execute_result"
    }
   ],
   "source": [
    "customer_fullDemographic.head(5)"
   ]
  },
  {
   "cell_type": "code",
   "execution_count": 96,
   "id": "eab0fdfc",
   "metadata": {},
   "outputs": [
    {
     "data": {
      "text/plain": [
       "0\n",
       "customer_id                               0\n",
       "first_name                                0\n",
       "last_name                               125\n",
       "gender                                    0\n",
       "past_3_years_bike_related_purchases       0\n",
       "DOB                                      87\n",
       "job_title                               506\n",
       "job_industry_category                   656\n",
       "wealth_segment                            0\n",
       "deceased_indicator                        0\n",
       "default                                 302\n",
       "owns_car                                  0\n",
       "tenure                                   87\n",
       "address                                4000\n",
       "postcode                               4000\n",
       "state                                  4000\n",
       "country                                4000\n",
       "property_valuation                     4000\n",
       "dtype: int64"
      ]
     },
     "execution_count": 96,
     "metadata": {},
     "output_type": "execute_result"
    }
   ],
   "source": [
    "customer_fullDemographic.isnull().sum()"
   ]
  },
  {
   "cell_type": "code",
   "execution_count": 82,
   "id": "0c94c8a9",
   "metadata": {},
   "outputs": [
    {
     "name": "stdout",
     "output_type": "stream",
     "text": [
      "<class 'pandas.core.frame.DataFrame'>\n",
      "RangeIndex: 7999 entries, 0 to 7998\n",
      "Data columns (total 18 columns):\n",
      " #   Column                               Non-Null Count  Dtype \n",
      "---  ------                               --------------  ----- \n",
      " 0   customer_id                          7999 non-null   object\n",
      " 1   first_name                           4000 non-null   object\n",
      " 2   last_name                            3875 non-null   object\n",
      " 3   gender                               4000 non-null   object\n",
      " 4   past_3_years_bike_related_purchases  4000 non-null   object\n",
      " 5   DOB                                  3913 non-null   object\n",
      " 6   job_title                            3494 non-null   object\n",
      " 7   job_industry_category                3344 non-null   object\n",
      " 8   wealth_segment                       4000 non-null   object\n",
      " 9   deceased_indicator                   4000 non-null   object\n",
      " 10  default                              3698 non-null   object\n",
      " 11  owns_car                             4000 non-null   object\n",
      " 12  tenure                               3913 non-null   object\n",
      " 13  address                              3999 non-null   object\n",
      " 14  postcode                             3999 non-null   object\n",
      " 15  state                                3999 non-null   object\n",
      " 16  country                              3999 non-null   object\n",
      " 17  property_valuation                   3999 non-null   object\n",
      "dtypes: object(18)\n",
      "memory usage: 1.1+ MB\n"
     ]
    }
   ],
   "source": [
    "customer_fullDemographic.info()"
   ]
  },
  {
   "cell_type": "code",
   "execution_count": 83,
   "id": "8f037b43",
   "metadata": {},
   "outputs": [
    {
     "data": {
      "text/plain": [
       "7999"
      ]
     },
     "execution_count": 83,
     "metadata": {},
     "output_type": "execute_result"
    }
   ],
   "source": [
    "customer_fullDemographic['customer_id'].nunique()"
   ]
  },
  {
   "cell_type": "code",
   "execution_count": 84,
   "id": "67b61aa6",
   "metadata": {},
   "outputs": [
    {
     "data": {
      "text/plain": [
       "0\n",
       "customer_id                            1\n",
       "first_name                             0\n",
       "last_name                              0\n",
       "gender                                 0\n",
       "past_3_years_bike_related_purchases    0\n",
       "DOB                                    0\n",
       "job_title                              0\n",
       "job_industry_category                  0\n",
       "wealth_segment                         0\n",
       "deceased_indicator                     0\n",
       "default                                0\n",
       "owns_car                               0\n",
       "tenure                                 0\n",
       "address                                1\n",
       "postcode                               1\n",
       "state                                  1\n",
       "country                                1\n",
       "property_valuation                     1\n",
       "dtype: int64"
      ]
     },
     "execution_count": 84,
     "metadata": {},
     "output_type": "execute_result"
    }
   ],
   "source": [
    "customer_fullDemographic[customer_fullDemographic['customer_id']==1].count()"
   ]
  },
  {
   "cell_type": "code",
   "execution_count": 85,
   "id": "c9fd5270",
   "metadata": {},
   "outputs": [
    {
     "name": "stdout",
     "output_type": "stream",
     "text": [
      "<class 'pandas.core.frame.DataFrame'>\n",
      "RangeIndex: 20000 entries, 0 to 19999\n",
      "Data columns (total 14 columns):\n",
      " #   Column                   Non-Null Count  Dtype \n",
      "---  ------                   --------------  ----- \n",
      " 0   index                    20000 non-null  int64 \n",
      " 1   transaction_id           20000 non-null  object\n",
      " 2   product_id               20000 non-null  object\n",
      " 3   customer_id              20000 non-null  object\n",
      " 4   transaction_date         20000 non-null  object\n",
      " 5   online_order             19640 non-null  object\n",
      " 6   order_status             20000 non-null  object\n",
      " 7   brand                    19803 non-null  object\n",
      " 8   product_line             19803 non-null  object\n",
      " 9   product_class            19803 non-null  object\n",
      " 10  product_size             19803 non-null  object\n",
      " 11  list_price               20000 non-null  object\n",
      " 12  standard_cost            19803 non-null  object\n",
      " 13  product_first_sold_date  19803 non-null  object\n",
      "dtypes: int64(1), object(13)\n",
      "memory usage: 2.1+ MB\n"
     ]
    }
   ],
   "source": [
    "Transactions.info()"
   ]
  },
  {
   "cell_type": "code",
   "execution_count": 92,
   "id": "894890ba",
   "metadata": {},
   "outputs": [
    {
     "data": {
      "text/plain": [
       "<bound method IndexOpsMixin.nunique of 0         2\n",
       "1         3\n",
       "2        37\n",
       "3        88\n",
       "4        78\n",
       "         ..\n",
       "19995    51\n",
       "19996    41\n",
       "19997    87\n",
       "19998     6\n",
       "19999    11\n",
       "Name: product_id, Length: 20000, dtype: object>"
      ]
     },
     "execution_count": 92,
     "metadata": {},
     "output_type": "execute_result"
    }
   ],
   "source": []
  },
  {
   "cell_type": "code",
   "execution_count": null,
   "id": "e555b16d",
   "metadata": {},
   "outputs": [],
   "source": []
  },
  {
   "cell_type": "code",
   "execution_count": null,
   "id": "023da9e9",
   "metadata": {},
   "outputs": [],
   "source": [
    "\n",
    "\n",
    "    \n",
    "\n"
   ]
  },
  {
   "cell_type": "code",
   "execution_count": null,
   "id": "3f8fe88d",
   "metadata": {},
   "outputs": [],
   "source": []
  },
  {
   "cell_type": "code",
   "execution_count": null,
   "id": "c702cacc",
   "metadata": {},
   "outputs": [],
   "source": []
  },
  {
   "cell_type": "code",
   "execution_count": null,
   "id": "03e51c83",
   "metadata": {},
   "outputs": [],
   "source": []
  },
  {
   "cell_type": "code",
   "execution_count": null,
   "id": "e8d13cc4",
   "metadata": {},
   "outputs": [],
   "source": [
    "\n"
   ]
  },
  {
   "cell_type": "code",
   "execution_count": null,
   "id": "6e61f4f8",
   "metadata": {},
   "outputs": [],
   "source": []
  },
  {
   "cell_type": "code",
   "execution_count": null,
   "id": "33dd0c53",
   "metadata": {},
   "outputs": [],
   "source": []
  },
  {
   "cell_type": "code",
   "execution_count": null,
   "id": "c5d000b3",
   "metadata": {},
   "outputs": [],
   "source": []
  },
  {
   "cell_type": "code",
   "execution_count": null,
   "id": "a230d068",
   "metadata": {},
   "outputs": [],
   "source": []
  },
  {
   "cell_type": "code",
   "execution_count": null,
   "id": "83eb5d90",
   "metadata": {},
   "outputs": [],
   "source": []
  },
  {
   "cell_type": "code",
   "execution_count": null,
   "id": "516332de",
   "metadata": {},
   "outputs": [],
   "source": []
  },
  {
   "cell_type": "code",
   "execution_count": null,
   "id": "8c7ea9d3",
   "metadata": {},
   "outputs": [],
   "source": []
  }
 ],
 "metadata": {
  "kernelspec": {
   "display_name": "Python 3 (ipykernel)",
   "language": "python",
   "name": "python3"
  },
  "language_info": {
   "codemirror_mode": {
    "name": "ipython",
    "version": 3
   },
   "file_extension": ".py",
   "mimetype": "text/x-python",
   "name": "python",
   "nbconvert_exporter": "python",
   "pygments_lexer": "ipython3",
   "version": "3.11.3"
  }
 },
 "nbformat": 4,
 "nbformat_minor": 5
}
